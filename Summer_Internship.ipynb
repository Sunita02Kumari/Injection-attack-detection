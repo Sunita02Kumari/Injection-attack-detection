{
  "cells": [
    {
      "cell_type": "markdown",
      "metadata": {
        "id": "view-in-github",
        "colab_type": "text"
      },
      "source": [
        "<a href=\"https://colab.research.google.com/github/Sunita02Kumari/Injection-attack-detection/blob/main/Summer_Internship.ipynb\" target=\"_parent\"><img src=\"https://colab.research.google.com/assets/colab-badge.svg\" alt=\"Open In Colab\"/></a>"
      ]
    },
    {
      "cell_type": "code",
      "source": [
        "from google.colab import drive\n",
        "drive.mount('/content/drive')"
      ],
      "metadata": {
        "colab": {
          "base_uri": "https://localhost:8080/"
        },
        "id": "lJS85YyHWlkS",
        "outputId": "356f8ca7-d2f0-4d8c-d381-efa5abcfbc40"
      },
      "id": "lJS85YyHWlkS",
      "execution_count": null,
      "outputs": [
        {
          "output_type": "stream",
          "name": "stdout",
          "text": [
            "Drive already mounted at /content/drive; to attempt to forcibly remount, call drive.mount(\"/content/drive\", force_remount=True).\n"
          ]
        }
      ]
    },
    {
      "cell_type": "markdown",
      "id": "c44b1fb6",
      "metadata": {
        "id": "c44b1fb6"
      },
      "source": [
        "# Importing Libraries"
      ]
    },
    {
      "cell_type": "code",
      "execution_count": null,
      "id": "a1243d25",
      "metadata": {
        "id": "a1243d25"
      },
      "outputs": [],
      "source": [
        "import pandas as pd\n",
        "import numpy as np\n",
        "import matplotlib.pyplot as plt\n",
        "%matplotlib inline\n",
        "from sklearn.model_selection import train_test_split "
      ]
    },
    {
      "cell_type": "code",
      "execution_count": null,
      "id": "1b832e0e",
      "metadata": {
        "id": "1b832e0e"
      },
      "outputs": [],
      "source": [
        "# Load the csv training dataset\n",
        "dftr=pd.read_csv('/content/drive/MyDrive/ML Project/Detection of injection attack in Wi-Fi /AWID_CLS_R_TRN_N.csv')"
      ]
    },
    {
      "cell_type": "code",
      "execution_count": null,
      "id": "5dae1aab",
      "metadata": {
        "colab": {
          "base_uri": "https://localhost:8080/"
        },
        "id": "5dae1aab",
        "outputId": "b496d8d6-459c-4247-8b4d-66a5d57b5e73"
      },
      "outputs": [
        {
          "output_type": "execute_result",
          "data": {
            "text/plain": [
              "frame.interface_id                  int64\n",
              "frame.dlt                          object\n",
              "frame.offset_shift                  int64\n",
              "frame.time_epoch                    int64\n",
              "frame.time_delta                  float64\n",
              "                                   ...   \n",
              "wlan.qos.bit4                      object\n",
              "wlan.qos.txop_dur_req              object\n",
              "wlan.qos.buf_state_indicated.1     object\n",
              "data.len                           object\n",
              "class                              object\n",
              "Length: 155, dtype: object"
            ]
          },
          "metadata": {},
          "execution_count": 4
        }
      ],
      "source": [
        "dftr.dtypes"
      ]
    },
    {
      "cell_type": "code",
      "execution_count": null,
      "id": "df6eafb5",
      "metadata": {
        "colab": {
          "base_uri": "https://localhost:8080/"
        },
        "id": "df6eafb5",
        "outputId": "e63c6328-7621-47b8-e9e0-d161a583da1c"
      },
      "outputs": [
        {
          "output_type": "execute_result",
          "data": {
            "text/plain": [
              "(1037196, 155)"
            ]
          },
          "metadata": {},
          "execution_count": 5
        }
      ],
      "source": [
        "dftr.shape"
      ]
    },
    {
      "cell_type": "code",
      "source": [
        "#Data cleaning and Pre-processing"
      ],
      "metadata": {
        "id": "M8lCdb25nMDc"
      },
      "id": "M8lCdb25nMDc",
      "execution_count": null,
      "outputs": []
    },
    {
      "cell_type": "code",
      "execution_count": null,
      "id": "da243c1a",
      "metadata": {
        "colab": {
          "base_uri": "https://localhost:8080/"
        },
        "id": "da243c1a",
        "outputId": "74fcfdb3-4b71-41ba-e556-74329d468017"
      },
      "outputs": [
        {
          "output_type": "execute_result",
          "data": {
            "text/plain": [
              "frame.interface_id                      0\n",
              "frame.dlt                         1037196\n",
              "frame.offset_shift                      0\n",
              "frame.time_epoch                        0\n",
              "frame.time_delta                        0\n",
              "                                   ...   \n",
              "wlan.qos.bit4                      929537\n",
              "wlan.qos.txop_dur_req              929537\n",
              "wlan.qos.buf_state_indicated.1     653872\n",
              "data.len                           508999\n",
              "class                                   0\n",
              "Length: 155, dtype: int64"
            ]
          },
          "metadata": {},
          "execution_count": 6
        }
      ],
      "source": [
        "#It print the sum of ? in every column\n",
        "dftr.isin(['?']).sum()"
      ]
    },
    {
      "cell_type": "code",
      "execution_count": null,
      "id": "051deed3",
      "metadata": {
        "id": "051deed3"
      },
      "outputs": [],
      "source": [
        "# Replceing ? with Null value(NAN)\n",
        "dftr.replace({\"?\": None}, inplace=True)"
      ]
    },
    {
      "cell_type": "code",
      "execution_count": null,
      "id": "a1aa63b9",
      "metadata": {
        "colab": {
          "base_uri": "https://localhost:8080/"
        },
        "id": "a1aa63b9",
        "outputId": "8975ec01-609b-42e6-8b75-f7500c2900c6"
      },
      "outputs": [
        {
          "output_type": "execute_result",
          "data": {
            "text/plain": [
              "frame.interface_id      0.0\n",
              "frame.dlt             100.0\n",
              "frame.offset_shift      0.0\n",
              "frame.time_epoch        0.0\n",
              "frame.time_delta        0.0\n",
              "dtype: float64"
            ]
          },
          "metadata": {},
          "execution_count": 8
        }
      ],
      "source": [
        "null_percentage=dftr.isna().sum()*100.0/dftr.shape[0]\n",
        "null_percentage.head()"
      ]
    },
    {
      "cell_type": "code",
      "execution_count": null,
      "id": "009e4d4d",
      "metadata": {
        "colab": {
          "base_uri": "https://localhost:8080/"
        },
        "id": "009e4d4d",
        "outputId": "f96d0a11-2cab-4a18-db26-774b1c69b8fd"
      },
      "outputs": [
        {
          "output_type": "execute_result",
          "data": {
            "text/plain": [
              "Index(['frame.dlt', 'wlan.bar.type', 'wlan.ba.control.ackpolicy',\n",
              "       'wlan.ba.control.multitid', 'wlan.ba.control.cbitmap',\n",
              "       'wlan.bar.compressed.tidinfo', 'wlan.ba.bm',\n",
              "       'wlan_mgt.fixed.capabilities.ess', 'wlan_mgt.fixed.capabilities.ibss',\n",
              "       'wlan_mgt.fixed.capabilities.cfpoll.ap',\n",
              "       'wlan_mgt.fixed.capabilities.privacy',\n",
              "       'wlan_mgt.fixed.capabilities.preamble',\n",
              "       'wlan_mgt.fixed.capabilities.pbcc',\n",
              "       'wlan_mgt.fixed.capabilities.agility',\n",
              "       'wlan_mgt.fixed.capabilities.spec_man',\n",
              "       'wlan_mgt.fixed.capabilities.short_slot_time',\n",
              "       'wlan_mgt.fixed.capabilities.apsd',\n",
              "       'wlan_mgt.fixed.capabilities.radio_measurement',\n",
              "       'wlan_mgt.fixed.capabilities.dsss_ofdm',\n",
              "       'wlan_mgt.fixed.capabilities.del_blk_ack',\n",
              "       'wlan_mgt.fixed.capabilities.imm_blk_ack', 'wlan_mgt.fixed.listen_ival',\n",
              "       'wlan_mgt.fixed.current_ap', 'wlan_mgt.fixed.status_code',\n",
              "       'wlan_mgt.fixed.timestamp', 'wlan_mgt.fixed.beacon',\n",
              "       'wlan_mgt.fixed.aid', 'wlan_mgt.fixed.reason_code',\n",
              "       'wlan_mgt.fixed.auth.alg', 'wlan_mgt.fixed.auth.seq',\n",
              "       'wlan_mgt.fixed.category_code', 'wlan_mgt.fixed.htact',\n",
              "       'wlan_mgt.fixed.chanwidth', 'wlan_mgt.fixed.fragment',\n",
              "       'wlan_mgt.fixed.sequence', 'wlan_mgt.tagged.all', 'wlan_mgt.ssid',\n",
              "       'wlan_mgt.ds.current_channel', 'wlan_mgt.tim.dtim_count',\n",
              "       'wlan_mgt.tim.dtim_period', 'wlan_mgt.tim.bmapctl.multicast',\n",
              "       'wlan_mgt.tim.bmapctl.offset', 'wlan_mgt.country_info.environment',\n",
              "       'wlan_mgt.rsn.version', 'wlan_mgt.rsn.gcs.type',\n",
              "       'wlan_mgt.rsn.pcs.count', 'wlan_mgt.rsn.akms.count',\n",
              "       'wlan_mgt.rsn.akms.type', 'wlan_mgt.rsn.capabilities.preauth',\n",
              "       'wlan_mgt.rsn.capabilities.no_pairwise',\n",
              "       'wlan_mgt.rsn.capabilities.ptska_replay_counter',\n",
              "       'wlan_mgt.rsn.capabilities.gtska_replay_counter',\n",
              "       'wlan_mgt.rsn.capabilities.mfpr', 'wlan_mgt.rsn.capabilities.mfpc',\n",
              "       'wlan_mgt.rsn.capabilities.peerkey', 'wlan_mgtl.tcprep.trmst_pow',\n",
              "       'wlan_mgt.tcprep.link_mrg', 'wlan.tkip.extiv', 'wlan.ccmp.extiv',\n",
              "       'wlan.qos.tid', 'wlan.qos.priority', 'wlan.qos.eosp', 'wlan.qos.ack',\n",
              "       'wlan.qos.amsdupresent', 'wlan.qos.buf_state_indicated',\n",
              "       'wlan.qos.bit4', 'wlan.qos.txop_dur_req',\n",
              "       'wlan.qos.buf_state_indicated.1'],\n",
              "      dtype='object')"
            ]
          },
          "metadata": {},
          "execution_count": 9
        }
      ],
      "source": [
        "col_to_drop=null_percentage[null_percentage>=50].keys()\n",
        "col_to_drop"
      ]
    },
    {
      "cell_type": "code",
      "execution_count": null,
      "id": "8d82cd2e",
      "metadata": {
        "id": "8d82cd2e"
      },
      "outputs": [],
      "source": [
        "dftr=dftr.drop(col_to_drop,axis=1)"
      ]
    },
    {
      "cell_type": "code",
      "execution_count": null,
      "id": "5b4b8ae3",
      "metadata": {
        "colab": {
          "base_uri": "https://localhost:8080/"
        },
        "id": "5b4b8ae3",
        "outputId": "24e0934d-b4ac-4da3-b55c-6a5f91ceedac"
      },
      "outputs": [
        {
          "output_type": "execute_result",
          "data": {
            "text/plain": [
              "(1037196, 87)"
            ]
          },
          "metadata": {},
          "execution_count": 11
        }
      ],
      "source": [
        "dftr.shape"
      ]
    },
    {
      "cell_type": "code",
      "execution_count": null,
      "id": "f3a600c0",
      "metadata": {
        "id": "f3a600c0"
      },
      "outputs": [],
      "source": [
        "#Drop the row which contains Null value(NAN)\n",
        "dftr.dropna(inplace=True)"
      ]
    },
    {
      "cell_type": "code",
      "execution_count": null,
      "id": "41218221",
      "metadata": {
        "colab": {
          "base_uri": "https://localhost:8080/"
        },
        "id": "41218221",
        "outputId": "88e96029-448d-4ce9-b8fe-b4739e2d719c"
      },
      "outputs": [
        {
          "output_type": "execute_result",
          "data": {
            "text/plain": [
              "(524238, 87)"
            ]
          },
          "metadata": {},
          "execution_count": 13
        }
      ],
      "source": [
        "dftr.shape"
      ]
    },
    {
      "cell_type": "code",
      "execution_count": null,
      "id": "15eea59e",
      "metadata": {
        "colab": {
          "base_uri": "https://localhost:8080/",
          "height": 488
        },
        "id": "15eea59e",
        "outputId": "ea975a31-bb03-42c7-a9b6-dd04fee71425"
      },
      "outputs": [
        {
          "output_type": "execute_result",
          "data": {
            "text/plain": [
              "        radiotap.present.reserved wlan.fc.type_subtype wlan.fc.ds  \\\n",
              "17                     0x00000000                 0x28       0x02   \n",
              "18                     0x00000000                 0x28       0x01   \n",
              "20                     0x00000000                 0x28       0x02   \n",
              "28                     0x00000000                 0x28       0x01   \n",
              "31                     0x00000000                 0x28       0x02   \n",
              "...                           ...                  ...        ...   \n",
              "1037189                0x00000000                 0x28       0x02   \n",
              "1037191                0x00000000                 0x28       0x01   \n",
              "1037192                0x00000000                 0x28       0x01   \n",
              "1037194                0x00000000                 0x28       0x02   \n",
              "1037195                0x00000000                 0x28       0x01   \n",
              "\n",
              "                   wlan.ra            wlan.da            wlan.ta  \\\n",
              "17       c0:18:85:94:b6:55  c0:18:85:94:b6:55  28:c6:8e:86:d3:d6   \n",
              "18       28:c6:8e:86:d3:d6  00:13:33:87:62:6d  c0:18:85:94:b6:55   \n",
              "20       c0:18:85:94:b6:55  c0:18:85:94:b6:55  28:c6:8e:86:d3:d6   \n",
              "28       28:c6:8e:86:d3:d6  00:13:33:87:62:6d  c0:18:85:94:b6:55   \n",
              "31       c0:18:85:94:b6:55  c0:18:85:94:b6:55  28:c6:8e:86:d3:d6   \n",
              "...                    ...                ...                ...   \n",
              "1037189  c0:18:85:94:b6:55  c0:18:85:94:b6:55  28:c6:8e:86:d3:d6   \n",
              "1037191  28:c6:8e:86:d3:d6  00:13:33:87:62:6d  c0:18:85:94:b6:55   \n",
              "1037192  28:c6:8e:86:d3:d6  00:13:33:87:62:6d  c0:18:85:94:b6:55   \n",
              "1037194  c0:18:85:94:b6:55  c0:18:85:94:b6:55  28:c6:8e:86:d3:d6   \n",
              "1037195  28:c6:8e:86:d3:d6  00:13:33:87:62:6d  c0:18:85:94:b6:55   \n",
              "\n",
              "                   wlan.sa         wlan.bssid wlan.frag wlan.seq wlan.wep.iv  \\\n",
              "17       00:13:33:87:62:6d  28:c6:8e:86:d3:d6         0       96    0x108dc1   \n",
              "18       c0:18:85:94:b6:55  28:c6:8e:86:d3:d6         0     1217    0x701db2   \n",
              "20       00:13:33:87:62:6d  28:c6:8e:86:d3:d6         0       97    0x118dc1   \n",
              "28       c0:18:85:94:b6:55  28:c6:8e:86:d3:d6         0     1220    0x701db5   \n",
              "31       00:13:33:87:62:6d  28:c6:8e:86:d3:d6         0       99    0x138dc1   \n",
              "...                    ...                ...       ...      ...         ...   \n",
              "1037189  00:13:33:87:62:6d  28:c6:8e:86:d3:d6         0     1852    0xd648ca   \n",
              "1037191  c0:18:85:94:b6:55  28:c6:8e:86:d3:d6         0     2479    0x73c2be   \n",
              "1037192  c0:18:85:94:b6:55  28:c6:8e:86:d3:d6         0     2480    0x73c2bf   \n",
              "1037194  00:13:33:87:62:6d  28:c6:8e:86:d3:d6         0     1853    0xd748ca   \n",
              "1037195  c0:18:85:94:b6:55  28:c6:8e:86:d3:d6         0     2481    0x73c2c0   \n",
              "\n",
              "        wlan.wep.key wlan.wep.icv data.len   class  \n",
              "17                 0   0x8aba05cf     1460  normal  \n",
              "18                 0   0xa7a76f9d       60  normal  \n",
              "20                 0   0xac302443       89  normal  \n",
              "28                 0   0x9a31b670       60  normal  \n",
              "31                 0   0x3854f67e       60  normal  \n",
              "...              ...          ...      ...     ...  \n",
              "1037189            0   0xf8bea63f     1488  normal  \n",
              "1037191            0   0xd2f1689a       60  normal  \n",
              "1037192            0   0x508ec8a0       60  normal  \n",
              "1037194            0   0x70d5056b     1488  normal  \n",
              "1037195            0   0x233a78c4       60  normal  \n",
              "\n",
              "[524238 rows x 15 columns]"
            ],
            "text/html": [
              "\n",
              "  <div id=\"df-9cb89daf-e6d3-4a70-961c-722e8cf29e1f\">\n",
              "    <div class=\"colab-df-container\">\n",
              "      <div>\n",
              "<style scoped>\n",
              "    .dataframe tbody tr th:only-of-type {\n",
              "        vertical-align: middle;\n",
              "    }\n",
              "\n",
              "    .dataframe tbody tr th {\n",
              "        vertical-align: top;\n",
              "    }\n",
              "\n",
              "    .dataframe thead th {\n",
              "        text-align: right;\n",
              "    }\n",
              "</style>\n",
              "<table border=\"1\" class=\"dataframe\">\n",
              "  <thead>\n",
              "    <tr style=\"text-align: right;\">\n",
              "      <th></th>\n",
              "      <th>radiotap.present.reserved</th>\n",
              "      <th>wlan.fc.type_subtype</th>\n",
              "      <th>wlan.fc.ds</th>\n",
              "      <th>wlan.ra</th>\n",
              "      <th>wlan.da</th>\n",
              "      <th>wlan.ta</th>\n",
              "      <th>wlan.sa</th>\n",
              "      <th>wlan.bssid</th>\n",
              "      <th>wlan.frag</th>\n",
              "      <th>wlan.seq</th>\n",
              "      <th>wlan.wep.iv</th>\n",
              "      <th>wlan.wep.key</th>\n",
              "      <th>wlan.wep.icv</th>\n",
              "      <th>data.len</th>\n",
              "      <th>class</th>\n",
              "    </tr>\n",
              "  </thead>\n",
              "  <tbody>\n",
              "    <tr>\n",
              "      <th>17</th>\n",
              "      <td>0x00000000</td>\n",
              "      <td>0x28</td>\n",
              "      <td>0x02</td>\n",
              "      <td>c0:18:85:94:b6:55</td>\n",
              "      <td>c0:18:85:94:b6:55</td>\n",
              "      <td>28:c6:8e:86:d3:d6</td>\n",
              "      <td>00:13:33:87:62:6d</td>\n",
              "      <td>28:c6:8e:86:d3:d6</td>\n",
              "      <td>0</td>\n",
              "      <td>96</td>\n",
              "      <td>0x108dc1</td>\n",
              "      <td>0</td>\n",
              "      <td>0x8aba05cf</td>\n",
              "      <td>1460</td>\n",
              "      <td>normal</td>\n",
              "    </tr>\n",
              "    <tr>\n",
              "      <th>18</th>\n",
              "      <td>0x00000000</td>\n",
              "      <td>0x28</td>\n",
              "      <td>0x01</td>\n",
              "      <td>28:c6:8e:86:d3:d6</td>\n",
              "      <td>00:13:33:87:62:6d</td>\n",
              "      <td>c0:18:85:94:b6:55</td>\n",
              "      <td>c0:18:85:94:b6:55</td>\n",
              "      <td>28:c6:8e:86:d3:d6</td>\n",
              "      <td>0</td>\n",
              "      <td>1217</td>\n",
              "      <td>0x701db2</td>\n",
              "      <td>0</td>\n",
              "      <td>0xa7a76f9d</td>\n",
              "      <td>60</td>\n",
              "      <td>normal</td>\n",
              "    </tr>\n",
              "    <tr>\n",
              "      <th>20</th>\n",
              "      <td>0x00000000</td>\n",
              "      <td>0x28</td>\n",
              "      <td>0x02</td>\n",
              "      <td>c0:18:85:94:b6:55</td>\n",
              "      <td>c0:18:85:94:b6:55</td>\n",
              "      <td>28:c6:8e:86:d3:d6</td>\n",
              "      <td>00:13:33:87:62:6d</td>\n",
              "      <td>28:c6:8e:86:d3:d6</td>\n",
              "      <td>0</td>\n",
              "      <td>97</td>\n",
              "      <td>0x118dc1</td>\n",
              "      <td>0</td>\n",
              "      <td>0xac302443</td>\n",
              "      <td>89</td>\n",
              "      <td>normal</td>\n",
              "    </tr>\n",
              "    <tr>\n",
              "      <th>28</th>\n",
              "      <td>0x00000000</td>\n",
              "      <td>0x28</td>\n",
              "      <td>0x01</td>\n",
              "      <td>28:c6:8e:86:d3:d6</td>\n",
              "      <td>00:13:33:87:62:6d</td>\n",
              "      <td>c0:18:85:94:b6:55</td>\n",
              "      <td>c0:18:85:94:b6:55</td>\n",
              "      <td>28:c6:8e:86:d3:d6</td>\n",
              "      <td>0</td>\n",
              "      <td>1220</td>\n",
              "      <td>0x701db5</td>\n",
              "      <td>0</td>\n",
              "      <td>0x9a31b670</td>\n",
              "      <td>60</td>\n",
              "      <td>normal</td>\n",
              "    </tr>\n",
              "    <tr>\n",
              "      <th>31</th>\n",
              "      <td>0x00000000</td>\n",
              "      <td>0x28</td>\n",
              "      <td>0x02</td>\n",
              "      <td>c0:18:85:94:b6:55</td>\n",
              "      <td>c0:18:85:94:b6:55</td>\n",
              "      <td>28:c6:8e:86:d3:d6</td>\n",
              "      <td>00:13:33:87:62:6d</td>\n",
              "      <td>28:c6:8e:86:d3:d6</td>\n",
              "      <td>0</td>\n",
              "      <td>99</td>\n",
              "      <td>0x138dc1</td>\n",
              "      <td>0</td>\n",
              "      <td>0x3854f67e</td>\n",
              "      <td>60</td>\n",
              "      <td>normal</td>\n",
              "    </tr>\n",
              "    <tr>\n",
              "      <th>...</th>\n",
              "      <td>...</td>\n",
              "      <td>...</td>\n",
              "      <td>...</td>\n",
              "      <td>...</td>\n",
              "      <td>...</td>\n",
              "      <td>...</td>\n",
              "      <td>...</td>\n",
              "      <td>...</td>\n",
              "      <td>...</td>\n",
              "      <td>...</td>\n",
              "      <td>...</td>\n",
              "      <td>...</td>\n",
              "      <td>...</td>\n",
              "      <td>...</td>\n",
              "      <td>...</td>\n",
              "    </tr>\n",
              "    <tr>\n",
              "      <th>1037189</th>\n",
              "      <td>0x00000000</td>\n",
              "      <td>0x28</td>\n",
              "      <td>0x02</td>\n",
              "      <td>c0:18:85:94:b6:55</td>\n",
              "      <td>c0:18:85:94:b6:55</td>\n",
              "      <td>28:c6:8e:86:d3:d6</td>\n",
              "      <td>00:13:33:87:62:6d</td>\n",
              "      <td>28:c6:8e:86:d3:d6</td>\n",
              "      <td>0</td>\n",
              "      <td>1852</td>\n",
              "      <td>0xd648ca</td>\n",
              "      <td>0</td>\n",
              "      <td>0xf8bea63f</td>\n",
              "      <td>1488</td>\n",
              "      <td>normal</td>\n",
              "    </tr>\n",
              "    <tr>\n",
              "      <th>1037191</th>\n",
              "      <td>0x00000000</td>\n",
              "      <td>0x28</td>\n",
              "      <td>0x01</td>\n",
              "      <td>28:c6:8e:86:d3:d6</td>\n",
              "      <td>00:13:33:87:62:6d</td>\n",
              "      <td>c0:18:85:94:b6:55</td>\n",
              "      <td>c0:18:85:94:b6:55</td>\n",
              "      <td>28:c6:8e:86:d3:d6</td>\n",
              "      <td>0</td>\n",
              "      <td>2479</td>\n",
              "      <td>0x73c2be</td>\n",
              "      <td>0</td>\n",
              "      <td>0xd2f1689a</td>\n",
              "      <td>60</td>\n",
              "      <td>normal</td>\n",
              "    </tr>\n",
              "    <tr>\n",
              "      <th>1037192</th>\n",
              "      <td>0x00000000</td>\n",
              "      <td>0x28</td>\n",
              "      <td>0x01</td>\n",
              "      <td>28:c6:8e:86:d3:d6</td>\n",
              "      <td>00:13:33:87:62:6d</td>\n",
              "      <td>c0:18:85:94:b6:55</td>\n",
              "      <td>c0:18:85:94:b6:55</td>\n",
              "      <td>28:c6:8e:86:d3:d6</td>\n",
              "      <td>0</td>\n",
              "      <td>2480</td>\n",
              "      <td>0x73c2bf</td>\n",
              "      <td>0</td>\n",
              "      <td>0x508ec8a0</td>\n",
              "      <td>60</td>\n",
              "      <td>normal</td>\n",
              "    </tr>\n",
              "    <tr>\n",
              "      <th>1037194</th>\n",
              "      <td>0x00000000</td>\n",
              "      <td>0x28</td>\n",
              "      <td>0x02</td>\n",
              "      <td>c0:18:85:94:b6:55</td>\n",
              "      <td>c0:18:85:94:b6:55</td>\n",
              "      <td>28:c6:8e:86:d3:d6</td>\n",
              "      <td>00:13:33:87:62:6d</td>\n",
              "      <td>28:c6:8e:86:d3:d6</td>\n",
              "      <td>0</td>\n",
              "      <td>1853</td>\n",
              "      <td>0xd748ca</td>\n",
              "      <td>0</td>\n",
              "      <td>0x70d5056b</td>\n",
              "      <td>1488</td>\n",
              "      <td>normal</td>\n",
              "    </tr>\n",
              "    <tr>\n",
              "      <th>1037195</th>\n",
              "      <td>0x00000000</td>\n",
              "      <td>0x28</td>\n",
              "      <td>0x01</td>\n",
              "      <td>28:c6:8e:86:d3:d6</td>\n",
              "      <td>00:13:33:87:62:6d</td>\n",
              "      <td>c0:18:85:94:b6:55</td>\n",
              "      <td>c0:18:85:94:b6:55</td>\n",
              "      <td>28:c6:8e:86:d3:d6</td>\n",
              "      <td>0</td>\n",
              "      <td>2481</td>\n",
              "      <td>0x73c2c0</td>\n",
              "      <td>0</td>\n",
              "      <td>0x233a78c4</td>\n",
              "      <td>60</td>\n",
              "      <td>normal</td>\n",
              "    </tr>\n",
              "  </tbody>\n",
              "</table>\n",
              "<p>524238 rows × 15 columns</p>\n",
              "</div>\n",
              "      <button class=\"colab-df-convert\" onclick=\"convertToInteractive('df-9cb89daf-e6d3-4a70-961c-722e8cf29e1f')\"\n",
              "              title=\"Convert this dataframe to an interactive table.\"\n",
              "              style=\"display:none;\">\n",
              "        \n",
              "  <svg xmlns=\"http://www.w3.org/2000/svg\" height=\"24px\"viewBox=\"0 0 24 24\"\n",
              "       width=\"24px\">\n",
              "    <path d=\"M0 0h24v24H0V0z\" fill=\"none\"/>\n",
              "    <path d=\"M18.56 5.44l.94 2.06.94-2.06 2.06-.94-2.06-.94-.94-2.06-.94 2.06-2.06.94zm-11 1L8.5 8.5l.94-2.06 2.06-.94-2.06-.94L8.5 2.5l-.94 2.06-2.06.94zm10 10l.94 2.06.94-2.06 2.06-.94-2.06-.94-.94-2.06-.94 2.06-2.06.94z\"/><path d=\"M17.41 7.96l-1.37-1.37c-.4-.4-.92-.59-1.43-.59-.52 0-1.04.2-1.43.59L10.3 9.45l-7.72 7.72c-.78.78-.78 2.05 0 2.83L4 21.41c.39.39.9.59 1.41.59.51 0 1.02-.2 1.41-.59l7.78-7.78 2.81-2.81c.8-.78.8-2.07 0-2.86zM5.41 20L4 18.59l7.72-7.72 1.47 1.35L5.41 20z\"/>\n",
              "  </svg>\n",
              "      </button>\n",
              "      \n",
              "  <style>\n",
              "    .colab-df-container {\n",
              "      display:flex;\n",
              "      flex-wrap:wrap;\n",
              "      gap: 12px;\n",
              "    }\n",
              "\n",
              "    .colab-df-convert {\n",
              "      background-color: #E8F0FE;\n",
              "      border: none;\n",
              "      border-radius: 50%;\n",
              "      cursor: pointer;\n",
              "      display: none;\n",
              "      fill: #1967D2;\n",
              "      height: 32px;\n",
              "      padding: 0 0 0 0;\n",
              "      width: 32px;\n",
              "    }\n",
              "\n",
              "    .colab-df-convert:hover {\n",
              "      background-color: #E2EBFA;\n",
              "      box-shadow: 0px 1px 2px rgba(60, 64, 67, 0.3), 0px 1px 3px 1px rgba(60, 64, 67, 0.15);\n",
              "      fill: #174EA6;\n",
              "    }\n",
              "\n",
              "    [theme=dark] .colab-df-convert {\n",
              "      background-color: #3B4455;\n",
              "      fill: #D2E3FC;\n",
              "    }\n",
              "\n",
              "    [theme=dark] .colab-df-convert:hover {\n",
              "      background-color: #434B5C;\n",
              "      box-shadow: 0px 1px 3px 1px rgba(0, 0, 0, 0.15);\n",
              "      filter: drop-shadow(0px 1px 2px rgba(0, 0, 0, 0.3));\n",
              "      fill: #FFFFFF;\n",
              "    }\n",
              "  </style>\n",
              "\n",
              "      <script>\n",
              "        const buttonEl =\n",
              "          document.querySelector('#df-9cb89daf-e6d3-4a70-961c-722e8cf29e1f button.colab-df-convert');\n",
              "        buttonEl.style.display =\n",
              "          google.colab.kernel.accessAllowed ? 'block' : 'none';\n",
              "\n",
              "        async function convertToInteractive(key) {\n",
              "          const element = document.querySelector('#df-9cb89daf-e6d3-4a70-961c-722e8cf29e1f');\n",
              "          const dataTable =\n",
              "            await google.colab.kernel.invokeFunction('convertToInteractive',\n",
              "                                                     [key], {});\n",
              "          if (!dataTable) return;\n",
              "\n",
              "          const docLinkHtml = 'Like what you see? Visit the ' +\n",
              "            '<a target=\"_blank\" href=https://colab.research.google.com/notebooks/data_table.ipynb>data table notebook</a>'\n",
              "            + ' to learn more about interactive tables.';\n",
              "          element.innerHTML = '';\n",
              "          dataTable['output_type'] = 'display_data';\n",
              "          await google.colab.output.renderOutput(dataTable, element);\n",
              "          const docLink = document.createElement('div');\n",
              "          docLink.innerHTML = docLinkHtml;\n",
              "          element.appendChild(docLink);\n",
              "        }\n",
              "      </script>\n",
              "    </div>\n",
              "  </div>\n",
              "  "
            ]
          },
          "metadata": {},
          "execution_count": 14
        }
      ],
      "source": [
        "object_datatype=dftr.select_dtypes(include='object')\n",
        "object_datatype"
      ]
    },
    {
      "cell_type": "code",
      "execution_count": null,
      "id": "89e87efb",
      "metadata": {
        "id": "89e87efb"
      },
      "outputs": [],
      "source": [
        "# Label Encoding with traning dataset\n",
        "from sklearn.preprocessing import LabelEncoder\n",
        "le_Class=LabelEncoder()"
      ]
    },
    {
      "cell_type": "code",
      "execution_count": null,
      "id": "94b8c3bc",
      "metadata": {
        "colab": {
          "base_uri": "https://localhost:8080/",
          "height": 299
        },
        "id": "94b8c3bc",
        "outputId": "87885908-5cae-4541-bc4b-4545b7a4c54e"
      },
      "outputs": [
        {
          "output_type": "execute_result",
          "data": {
            "text/plain": [
              "    frame.interface_id  frame.offset_shift  frame.time_epoch  \\\n",
              "17                   0                   0        1393661303   \n",
              "18                   0                   0        1393661303   \n",
              "20                   0                   0        1393661303   \n",
              "28                   0                   0        1393661303   \n",
              "31                   0                   0        1393661303   \n",
              "\n",
              "    frame.time_delta  frame.time_delta_displayed  frame.time_relative  \\\n",
              "17          0.002270                    0.002270             0.217518   \n",
              "18          0.000621                    0.000621             0.218139   \n",
              "20          0.000144                    0.000144             0.229118   \n",
              "28          0.021711                    0.021711             0.367359   \n",
              "31          0.000058                    0.000058             0.380933   \n",
              "\n",
              "    frame.len  frame.cap_len  frame.marked  frame.ignored  ...  \\\n",
              "17       1524           1524             0              0  ...   \n",
              "18        124            124             0              0  ...   \n",
              "20        153            153             0              0  ...   \n",
              "28        124            124             0              0  ...   \n",
              "31        124            124             0              0  ...   \n",
              "\n",
              "           wlan.bssid  wlan.frag  wlan.seq  wlan.fcs_good  wlan.wep.iv  \\\n",
              "17  28:c6:8e:86:d3:d6          0        96            1.0     0x108dc1   \n",
              "18  28:c6:8e:86:d3:d6          0      1217            1.0     0x701db2   \n",
              "20  28:c6:8e:86:d3:d6          0        97            1.0     0x118dc1   \n",
              "28  28:c6:8e:86:d3:d6          0      1220            1.0     0x701db5   \n",
              "31  28:c6:8e:86:d3:d6          0        99            1.0     0x138dc1   \n",
              "\n",
              "    wlan.wep.key  wlan.wep.icv  data.len   class  class_n  \n",
              "17             0    0x8aba05cf      1460  normal        1  \n",
              "18             0    0xa7a76f9d        60  normal        1  \n",
              "20             0    0xac302443        89  normal        1  \n",
              "28             0    0x9a31b670        60  normal        1  \n",
              "31             0    0x3854f67e        60  normal        1  \n",
              "\n",
              "[5 rows x 88 columns]"
            ],
            "text/html": [
              "\n",
              "  <div id=\"df-d5de67e4-25a3-46c2-9c56-3e4ea434c502\">\n",
              "    <div class=\"colab-df-container\">\n",
              "      <div>\n",
              "<style scoped>\n",
              "    .dataframe tbody tr th:only-of-type {\n",
              "        vertical-align: middle;\n",
              "    }\n",
              "\n",
              "    .dataframe tbody tr th {\n",
              "        vertical-align: top;\n",
              "    }\n",
              "\n",
              "    .dataframe thead th {\n",
              "        text-align: right;\n",
              "    }\n",
              "</style>\n",
              "<table border=\"1\" class=\"dataframe\">\n",
              "  <thead>\n",
              "    <tr style=\"text-align: right;\">\n",
              "      <th></th>\n",
              "      <th>frame.interface_id</th>\n",
              "      <th>frame.offset_shift</th>\n",
              "      <th>frame.time_epoch</th>\n",
              "      <th>frame.time_delta</th>\n",
              "      <th>frame.time_delta_displayed</th>\n",
              "      <th>frame.time_relative</th>\n",
              "      <th>frame.len</th>\n",
              "      <th>frame.cap_len</th>\n",
              "      <th>frame.marked</th>\n",
              "      <th>frame.ignored</th>\n",
              "      <th>...</th>\n",
              "      <th>wlan.bssid</th>\n",
              "      <th>wlan.frag</th>\n",
              "      <th>wlan.seq</th>\n",
              "      <th>wlan.fcs_good</th>\n",
              "      <th>wlan.wep.iv</th>\n",
              "      <th>wlan.wep.key</th>\n",
              "      <th>wlan.wep.icv</th>\n",
              "      <th>data.len</th>\n",
              "      <th>class</th>\n",
              "      <th>class_n</th>\n",
              "    </tr>\n",
              "  </thead>\n",
              "  <tbody>\n",
              "    <tr>\n",
              "      <th>17</th>\n",
              "      <td>0</td>\n",
              "      <td>0</td>\n",
              "      <td>1393661303</td>\n",
              "      <td>0.002270</td>\n",
              "      <td>0.002270</td>\n",
              "      <td>0.217518</td>\n",
              "      <td>1524</td>\n",
              "      <td>1524</td>\n",
              "      <td>0</td>\n",
              "      <td>0</td>\n",
              "      <td>...</td>\n",
              "      <td>28:c6:8e:86:d3:d6</td>\n",
              "      <td>0</td>\n",
              "      <td>96</td>\n",
              "      <td>1.0</td>\n",
              "      <td>0x108dc1</td>\n",
              "      <td>0</td>\n",
              "      <td>0x8aba05cf</td>\n",
              "      <td>1460</td>\n",
              "      <td>normal</td>\n",
              "      <td>1</td>\n",
              "    </tr>\n",
              "    <tr>\n",
              "      <th>18</th>\n",
              "      <td>0</td>\n",
              "      <td>0</td>\n",
              "      <td>1393661303</td>\n",
              "      <td>0.000621</td>\n",
              "      <td>0.000621</td>\n",
              "      <td>0.218139</td>\n",
              "      <td>124</td>\n",
              "      <td>124</td>\n",
              "      <td>0</td>\n",
              "      <td>0</td>\n",
              "      <td>...</td>\n",
              "      <td>28:c6:8e:86:d3:d6</td>\n",
              "      <td>0</td>\n",
              "      <td>1217</td>\n",
              "      <td>1.0</td>\n",
              "      <td>0x701db2</td>\n",
              "      <td>0</td>\n",
              "      <td>0xa7a76f9d</td>\n",
              "      <td>60</td>\n",
              "      <td>normal</td>\n",
              "      <td>1</td>\n",
              "    </tr>\n",
              "    <tr>\n",
              "      <th>20</th>\n",
              "      <td>0</td>\n",
              "      <td>0</td>\n",
              "      <td>1393661303</td>\n",
              "      <td>0.000144</td>\n",
              "      <td>0.000144</td>\n",
              "      <td>0.229118</td>\n",
              "      <td>153</td>\n",
              "      <td>153</td>\n",
              "      <td>0</td>\n",
              "      <td>0</td>\n",
              "      <td>...</td>\n",
              "      <td>28:c6:8e:86:d3:d6</td>\n",
              "      <td>0</td>\n",
              "      <td>97</td>\n",
              "      <td>1.0</td>\n",
              "      <td>0x118dc1</td>\n",
              "      <td>0</td>\n",
              "      <td>0xac302443</td>\n",
              "      <td>89</td>\n",
              "      <td>normal</td>\n",
              "      <td>1</td>\n",
              "    </tr>\n",
              "    <tr>\n",
              "      <th>28</th>\n",
              "      <td>0</td>\n",
              "      <td>0</td>\n",
              "      <td>1393661303</td>\n",
              "      <td>0.021711</td>\n",
              "      <td>0.021711</td>\n",
              "      <td>0.367359</td>\n",
              "      <td>124</td>\n",
              "      <td>124</td>\n",
              "      <td>0</td>\n",
              "      <td>0</td>\n",
              "      <td>...</td>\n",
              "      <td>28:c6:8e:86:d3:d6</td>\n",
              "      <td>0</td>\n",
              "      <td>1220</td>\n",
              "      <td>1.0</td>\n",
              "      <td>0x701db5</td>\n",
              "      <td>0</td>\n",
              "      <td>0x9a31b670</td>\n",
              "      <td>60</td>\n",
              "      <td>normal</td>\n",
              "      <td>1</td>\n",
              "    </tr>\n",
              "    <tr>\n",
              "      <th>31</th>\n",
              "      <td>0</td>\n",
              "      <td>0</td>\n",
              "      <td>1393661303</td>\n",
              "      <td>0.000058</td>\n",
              "      <td>0.000058</td>\n",
              "      <td>0.380933</td>\n",
              "      <td>124</td>\n",
              "      <td>124</td>\n",
              "      <td>0</td>\n",
              "      <td>0</td>\n",
              "      <td>...</td>\n",
              "      <td>28:c6:8e:86:d3:d6</td>\n",
              "      <td>0</td>\n",
              "      <td>99</td>\n",
              "      <td>1.0</td>\n",
              "      <td>0x138dc1</td>\n",
              "      <td>0</td>\n",
              "      <td>0x3854f67e</td>\n",
              "      <td>60</td>\n",
              "      <td>normal</td>\n",
              "      <td>1</td>\n",
              "    </tr>\n",
              "  </tbody>\n",
              "</table>\n",
              "<p>5 rows × 88 columns</p>\n",
              "</div>\n",
              "      <button class=\"colab-df-convert\" onclick=\"convertToInteractive('df-d5de67e4-25a3-46c2-9c56-3e4ea434c502')\"\n",
              "              title=\"Convert this dataframe to an interactive table.\"\n",
              "              style=\"display:none;\">\n",
              "        \n",
              "  <svg xmlns=\"http://www.w3.org/2000/svg\" height=\"24px\"viewBox=\"0 0 24 24\"\n",
              "       width=\"24px\">\n",
              "    <path d=\"M0 0h24v24H0V0z\" fill=\"none\"/>\n",
              "    <path d=\"M18.56 5.44l.94 2.06.94-2.06 2.06-.94-2.06-.94-.94-2.06-.94 2.06-2.06.94zm-11 1L8.5 8.5l.94-2.06 2.06-.94-2.06-.94L8.5 2.5l-.94 2.06-2.06.94zm10 10l.94 2.06.94-2.06 2.06-.94-2.06-.94-.94-2.06-.94 2.06-2.06.94z\"/><path d=\"M17.41 7.96l-1.37-1.37c-.4-.4-.92-.59-1.43-.59-.52 0-1.04.2-1.43.59L10.3 9.45l-7.72 7.72c-.78.78-.78 2.05 0 2.83L4 21.41c.39.39.9.59 1.41.59.51 0 1.02-.2 1.41-.59l7.78-7.78 2.81-2.81c.8-.78.8-2.07 0-2.86zM5.41 20L4 18.59l7.72-7.72 1.47 1.35L5.41 20z\"/>\n",
              "  </svg>\n",
              "      </button>\n",
              "      \n",
              "  <style>\n",
              "    .colab-df-container {\n",
              "      display:flex;\n",
              "      flex-wrap:wrap;\n",
              "      gap: 12px;\n",
              "    }\n",
              "\n",
              "    .colab-df-convert {\n",
              "      background-color: #E8F0FE;\n",
              "      border: none;\n",
              "      border-radius: 50%;\n",
              "      cursor: pointer;\n",
              "      display: none;\n",
              "      fill: #1967D2;\n",
              "      height: 32px;\n",
              "      padding: 0 0 0 0;\n",
              "      width: 32px;\n",
              "    }\n",
              "\n",
              "    .colab-df-convert:hover {\n",
              "      background-color: #E2EBFA;\n",
              "      box-shadow: 0px 1px 2px rgba(60, 64, 67, 0.3), 0px 1px 3px 1px rgba(60, 64, 67, 0.15);\n",
              "      fill: #174EA6;\n",
              "    }\n",
              "\n",
              "    [theme=dark] .colab-df-convert {\n",
              "      background-color: #3B4455;\n",
              "      fill: #D2E3FC;\n",
              "    }\n",
              "\n",
              "    [theme=dark] .colab-df-convert:hover {\n",
              "      background-color: #434B5C;\n",
              "      box-shadow: 0px 1px 3px 1px rgba(0, 0, 0, 0.15);\n",
              "      filter: drop-shadow(0px 1px 2px rgba(0, 0, 0, 0.3));\n",
              "      fill: #FFFFFF;\n",
              "    }\n",
              "  </style>\n",
              "\n",
              "      <script>\n",
              "        const buttonEl =\n",
              "          document.querySelector('#df-d5de67e4-25a3-46c2-9c56-3e4ea434c502 button.colab-df-convert');\n",
              "        buttonEl.style.display =\n",
              "          google.colab.kernel.accessAllowed ? 'block' : 'none';\n",
              "\n",
              "        async function convertToInteractive(key) {\n",
              "          const element = document.querySelector('#df-d5de67e4-25a3-46c2-9c56-3e4ea434c502');\n",
              "          const dataTable =\n",
              "            await google.colab.kernel.invokeFunction('convertToInteractive',\n",
              "                                                     [key], {});\n",
              "          if (!dataTable) return;\n",
              "\n",
              "          const docLinkHtml = 'Like what you see? Visit the ' +\n",
              "            '<a target=\"_blank\" href=https://colab.research.google.com/notebooks/data_table.ipynb>data table notebook</a>'\n",
              "            + ' to learn more about interactive tables.';\n",
              "          element.innerHTML = '';\n",
              "          dataTable['output_type'] = 'display_data';\n",
              "          await google.colab.output.renderOutput(dataTable, element);\n",
              "          const docLink = document.createElement('div');\n",
              "          docLink.innerHTML = docLinkHtml;\n",
              "          element.appendChild(docLink);\n",
              "        }\n",
              "      </script>\n",
              "    </div>\n",
              "  </div>\n",
              "  "
            ]
          },
          "metadata": {},
          "execution_count": 16
        }
      ],
      "source": [
        "dftr['class_n']=le_Class.fit_transform(dftr['class'])\n",
        "dftr.head()"
      ]
    },
    {
      "cell_type": "code",
      "execution_count": null,
      "id": "8cd071c3",
      "metadata": {
        "colab": {
          "base_uri": "https://localhost:8080/"
        },
        "id": "8cd071c3",
        "outputId": "06a51e64-590c-43ed-b63b-8ed837d9bd54"
      },
      "outputs": [
        {
          "output_type": "execute_result",
          "data": {
            "text/plain": [
              "(524238, 73)"
            ]
          },
          "metadata": {},
          "execution_count": 17
        }
      ],
      "source": [
        "dftr.select_dtypes(['number']).shape"
      ]
    },
    {
      "cell_type": "code",
      "execution_count": null,
      "id": "cda7fb3a",
      "metadata": {
        "id": "cda7fb3a"
      },
      "outputs": [],
      "source": [
        "# Convert the Object datatype into numerical datatype\n",
        "for col in dftr.columns:\n",
        "    dftr[col] = pd.to_numeric(dftr[col], errors='ignore')"
      ]
    },
    {
      "cell_type": "code",
      "execution_count": null,
      "id": "7e9f3a37",
      "metadata": {
        "colab": {
          "base_uri": "https://localhost:8080/"
        },
        "id": "7e9f3a37",
        "outputId": "8cb9232c-aeab-42a9-90c5-03598fc4b5cf"
      },
      "outputs": [
        {
          "output_type": "execute_result",
          "data": {
            "text/plain": [
              "(524238, 77)"
            ]
          },
          "metadata": {},
          "execution_count": 19
        }
      ],
      "source": [
        "dftr.select_dtypes(['number']).shape"
      ]
    },
    {
      "cell_type": "code",
      "execution_count": null,
      "id": "0c4ff514",
      "metadata": {
        "colab": {
          "base_uri": "https://localhost:8080/",
          "height": 488
        },
        "id": "0c4ff514",
        "outputId": "4b19d4db-a453-40c3-bf73-28d4de14ba6c"
      },
      "outputs": [
        {
          "output_type": "execute_result",
          "data": {
            "text/plain": [
              "        radiotap.present.reserved wlan.fc.type_subtype wlan.fc.ds  \\\n",
              "17                     0x00000000                 0x28       0x02   \n",
              "18                     0x00000000                 0x28       0x01   \n",
              "20                     0x00000000                 0x28       0x02   \n",
              "28                     0x00000000                 0x28       0x01   \n",
              "31                     0x00000000                 0x28       0x02   \n",
              "...                           ...                  ...        ...   \n",
              "1037189                0x00000000                 0x28       0x02   \n",
              "1037191                0x00000000                 0x28       0x01   \n",
              "1037192                0x00000000                 0x28       0x01   \n",
              "1037194                0x00000000                 0x28       0x02   \n",
              "1037195                0x00000000                 0x28       0x01   \n",
              "\n",
              "                   wlan.ra            wlan.da            wlan.ta  \\\n",
              "17       c0:18:85:94:b6:55  c0:18:85:94:b6:55  28:c6:8e:86:d3:d6   \n",
              "18       28:c6:8e:86:d3:d6  00:13:33:87:62:6d  c0:18:85:94:b6:55   \n",
              "20       c0:18:85:94:b6:55  c0:18:85:94:b6:55  28:c6:8e:86:d3:d6   \n",
              "28       28:c6:8e:86:d3:d6  00:13:33:87:62:6d  c0:18:85:94:b6:55   \n",
              "31       c0:18:85:94:b6:55  c0:18:85:94:b6:55  28:c6:8e:86:d3:d6   \n",
              "...                    ...                ...                ...   \n",
              "1037189  c0:18:85:94:b6:55  c0:18:85:94:b6:55  28:c6:8e:86:d3:d6   \n",
              "1037191  28:c6:8e:86:d3:d6  00:13:33:87:62:6d  c0:18:85:94:b6:55   \n",
              "1037192  28:c6:8e:86:d3:d6  00:13:33:87:62:6d  c0:18:85:94:b6:55   \n",
              "1037194  c0:18:85:94:b6:55  c0:18:85:94:b6:55  28:c6:8e:86:d3:d6   \n",
              "1037195  28:c6:8e:86:d3:d6  00:13:33:87:62:6d  c0:18:85:94:b6:55   \n",
              "\n",
              "                   wlan.sa         wlan.bssid wlan.wep.iv wlan.wep.icv   class  \n",
              "17       00:13:33:87:62:6d  28:c6:8e:86:d3:d6    0x108dc1   0x8aba05cf  normal  \n",
              "18       c0:18:85:94:b6:55  28:c6:8e:86:d3:d6    0x701db2   0xa7a76f9d  normal  \n",
              "20       00:13:33:87:62:6d  28:c6:8e:86:d3:d6    0x118dc1   0xac302443  normal  \n",
              "28       c0:18:85:94:b6:55  28:c6:8e:86:d3:d6    0x701db5   0x9a31b670  normal  \n",
              "31       00:13:33:87:62:6d  28:c6:8e:86:d3:d6    0x138dc1   0x3854f67e  normal  \n",
              "...                    ...                ...         ...          ...     ...  \n",
              "1037189  00:13:33:87:62:6d  28:c6:8e:86:d3:d6    0xd648ca   0xf8bea63f  normal  \n",
              "1037191  c0:18:85:94:b6:55  28:c6:8e:86:d3:d6    0x73c2be   0xd2f1689a  normal  \n",
              "1037192  c0:18:85:94:b6:55  28:c6:8e:86:d3:d6    0x73c2bf   0x508ec8a0  normal  \n",
              "1037194  00:13:33:87:62:6d  28:c6:8e:86:d3:d6    0xd748ca   0x70d5056b  normal  \n",
              "1037195  c0:18:85:94:b6:55  28:c6:8e:86:d3:d6    0x73c2c0   0x233a78c4  normal  \n",
              "\n",
              "[524238 rows x 11 columns]"
            ],
            "text/html": [
              "\n",
              "  <div id=\"df-a797048b-6b67-4887-bcad-f9c700ae14b1\">\n",
              "    <div class=\"colab-df-container\">\n",
              "      <div>\n",
              "<style scoped>\n",
              "    .dataframe tbody tr th:only-of-type {\n",
              "        vertical-align: middle;\n",
              "    }\n",
              "\n",
              "    .dataframe tbody tr th {\n",
              "        vertical-align: top;\n",
              "    }\n",
              "\n",
              "    .dataframe thead th {\n",
              "        text-align: right;\n",
              "    }\n",
              "</style>\n",
              "<table border=\"1\" class=\"dataframe\">\n",
              "  <thead>\n",
              "    <tr style=\"text-align: right;\">\n",
              "      <th></th>\n",
              "      <th>radiotap.present.reserved</th>\n",
              "      <th>wlan.fc.type_subtype</th>\n",
              "      <th>wlan.fc.ds</th>\n",
              "      <th>wlan.ra</th>\n",
              "      <th>wlan.da</th>\n",
              "      <th>wlan.ta</th>\n",
              "      <th>wlan.sa</th>\n",
              "      <th>wlan.bssid</th>\n",
              "      <th>wlan.wep.iv</th>\n",
              "      <th>wlan.wep.icv</th>\n",
              "      <th>class</th>\n",
              "    </tr>\n",
              "  </thead>\n",
              "  <tbody>\n",
              "    <tr>\n",
              "      <th>17</th>\n",
              "      <td>0x00000000</td>\n",
              "      <td>0x28</td>\n",
              "      <td>0x02</td>\n",
              "      <td>c0:18:85:94:b6:55</td>\n",
              "      <td>c0:18:85:94:b6:55</td>\n",
              "      <td>28:c6:8e:86:d3:d6</td>\n",
              "      <td>00:13:33:87:62:6d</td>\n",
              "      <td>28:c6:8e:86:d3:d6</td>\n",
              "      <td>0x108dc1</td>\n",
              "      <td>0x8aba05cf</td>\n",
              "      <td>normal</td>\n",
              "    </tr>\n",
              "    <tr>\n",
              "      <th>18</th>\n",
              "      <td>0x00000000</td>\n",
              "      <td>0x28</td>\n",
              "      <td>0x01</td>\n",
              "      <td>28:c6:8e:86:d3:d6</td>\n",
              "      <td>00:13:33:87:62:6d</td>\n",
              "      <td>c0:18:85:94:b6:55</td>\n",
              "      <td>c0:18:85:94:b6:55</td>\n",
              "      <td>28:c6:8e:86:d3:d6</td>\n",
              "      <td>0x701db2</td>\n",
              "      <td>0xa7a76f9d</td>\n",
              "      <td>normal</td>\n",
              "    </tr>\n",
              "    <tr>\n",
              "      <th>20</th>\n",
              "      <td>0x00000000</td>\n",
              "      <td>0x28</td>\n",
              "      <td>0x02</td>\n",
              "      <td>c0:18:85:94:b6:55</td>\n",
              "      <td>c0:18:85:94:b6:55</td>\n",
              "      <td>28:c6:8e:86:d3:d6</td>\n",
              "      <td>00:13:33:87:62:6d</td>\n",
              "      <td>28:c6:8e:86:d3:d6</td>\n",
              "      <td>0x118dc1</td>\n",
              "      <td>0xac302443</td>\n",
              "      <td>normal</td>\n",
              "    </tr>\n",
              "    <tr>\n",
              "      <th>28</th>\n",
              "      <td>0x00000000</td>\n",
              "      <td>0x28</td>\n",
              "      <td>0x01</td>\n",
              "      <td>28:c6:8e:86:d3:d6</td>\n",
              "      <td>00:13:33:87:62:6d</td>\n",
              "      <td>c0:18:85:94:b6:55</td>\n",
              "      <td>c0:18:85:94:b6:55</td>\n",
              "      <td>28:c6:8e:86:d3:d6</td>\n",
              "      <td>0x701db5</td>\n",
              "      <td>0x9a31b670</td>\n",
              "      <td>normal</td>\n",
              "    </tr>\n",
              "    <tr>\n",
              "      <th>31</th>\n",
              "      <td>0x00000000</td>\n",
              "      <td>0x28</td>\n",
              "      <td>0x02</td>\n",
              "      <td>c0:18:85:94:b6:55</td>\n",
              "      <td>c0:18:85:94:b6:55</td>\n",
              "      <td>28:c6:8e:86:d3:d6</td>\n",
              "      <td>00:13:33:87:62:6d</td>\n",
              "      <td>28:c6:8e:86:d3:d6</td>\n",
              "      <td>0x138dc1</td>\n",
              "      <td>0x3854f67e</td>\n",
              "      <td>normal</td>\n",
              "    </tr>\n",
              "    <tr>\n",
              "      <th>...</th>\n",
              "      <td>...</td>\n",
              "      <td>...</td>\n",
              "      <td>...</td>\n",
              "      <td>...</td>\n",
              "      <td>...</td>\n",
              "      <td>...</td>\n",
              "      <td>...</td>\n",
              "      <td>...</td>\n",
              "      <td>...</td>\n",
              "      <td>...</td>\n",
              "      <td>...</td>\n",
              "    </tr>\n",
              "    <tr>\n",
              "      <th>1037189</th>\n",
              "      <td>0x00000000</td>\n",
              "      <td>0x28</td>\n",
              "      <td>0x02</td>\n",
              "      <td>c0:18:85:94:b6:55</td>\n",
              "      <td>c0:18:85:94:b6:55</td>\n",
              "      <td>28:c6:8e:86:d3:d6</td>\n",
              "      <td>00:13:33:87:62:6d</td>\n",
              "      <td>28:c6:8e:86:d3:d6</td>\n",
              "      <td>0xd648ca</td>\n",
              "      <td>0xf8bea63f</td>\n",
              "      <td>normal</td>\n",
              "    </tr>\n",
              "    <tr>\n",
              "      <th>1037191</th>\n",
              "      <td>0x00000000</td>\n",
              "      <td>0x28</td>\n",
              "      <td>0x01</td>\n",
              "      <td>28:c6:8e:86:d3:d6</td>\n",
              "      <td>00:13:33:87:62:6d</td>\n",
              "      <td>c0:18:85:94:b6:55</td>\n",
              "      <td>c0:18:85:94:b6:55</td>\n",
              "      <td>28:c6:8e:86:d3:d6</td>\n",
              "      <td>0x73c2be</td>\n",
              "      <td>0xd2f1689a</td>\n",
              "      <td>normal</td>\n",
              "    </tr>\n",
              "    <tr>\n",
              "      <th>1037192</th>\n",
              "      <td>0x00000000</td>\n",
              "      <td>0x28</td>\n",
              "      <td>0x01</td>\n",
              "      <td>28:c6:8e:86:d3:d6</td>\n",
              "      <td>00:13:33:87:62:6d</td>\n",
              "      <td>c0:18:85:94:b6:55</td>\n",
              "      <td>c0:18:85:94:b6:55</td>\n",
              "      <td>28:c6:8e:86:d3:d6</td>\n",
              "      <td>0x73c2bf</td>\n",
              "      <td>0x508ec8a0</td>\n",
              "      <td>normal</td>\n",
              "    </tr>\n",
              "    <tr>\n",
              "      <th>1037194</th>\n",
              "      <td>0x00000000</td>\n",
              "      <td>0x28</td>\n",
              "      <td>0x02</td>\n",
              "      <td>c0:18:85:94:b6:55</td>\n",
              "      <td>c0:18:85:94:b6:55</td>\n",
              "      <td>28:c6:8e:86:d3:d6</td>\n",
              "      <td>00:13:33:87:62:6d</td>\n",
              "      <td>28:c6:8e:86:d3:d6</td>\n",
              "      <td>0xd748ca</td>\n",
              "      <td>0x70d5056b</td>\n",
              "      <td>normal</td>\n",
              "    </tr>\n",
              "    <tr>\n",
              "      <th>1037195</th>\n",
              "      <td>0x00000000</td>\n",
              "      <td>0x28</td>\n",
              "      <td>0x01</td>\n",
              "      <td>28:c6:8e:86:d3:d6</td>\n",
              "      <td>00:13:33:87:62:6d</td>\n",
              "      <td>c0:18:85:94:b6:55</td>\n",
              "      <td>c0:18:85:94:b6:55</td>\n",
              "      <td>28:c6:8e:86:d3:d6</td>\n",
              "      <td>0x73c2c0</td>\n",
              "      <td>0x233a78c4</td>\n",
              "      <td>normal</td>\n",
              "    </tr>\n",
              "  </tbody>\n",
              "</table>\n",
              "<p>524238 rows × 11 columns</p>\n",
              "</div>\n",
              "      <button class=\"colab-df-convert\" onclick=\"convertToInteractive('df-a797048b-6b67-4887-bcad-f9c700ae14b1')\"\n",
              "              title=\"Convert this dataframe to an interactive table.\"\n",
              "              style=\"display:none;\">\n",
              "        \n",
              "  <svg xmlns=\"http://www.w3.org/2000/svg\" height=\"24px\"viewBox=\"0 0 24 24\"\n",
              "       width=\"24px\">\n",
              "    <path d=\"M0 0h24v24H0V0z\" fill=\"none\"/>\n",
              "    <path d=\"M18.56 5.44l.94 2.06.94-2.06 2.06-.94-2.06-.94-.94-2.06-.94 2.06-2.06.94zm-11 1L8.5 8.5l.94-2.06 2.06-.94-2.06-.94L8.5 2.5l-.94 2.06-2.06.94zm10 10l.94 2.06.94-2.06 2.06-.94-2.06-.94-.94-2.06-.94 2.06-2.06.94z\"/><path d=\"M17.41 7.96l-1.37-1.37c-.4-.4-.92-.59-1.43-.59-.52 0-1.04.2-1.43.59L10.3 9.45l-7.72 7.72c-.78.78-.78 2.05 0 2.83L4 21.41c.39.39.9.59 1.41.59.51 0 1.02-.2 1.41-.59l7.78-7.78 2.81-2.81c.8-.78.8-2.07 0-2.86zM5.41 20L4 18.59l7.72-7.72 1.47 1.35L5.41 20z\"/>\n",
              "  </svg>\n",
              "      </button>\n",
              "      \n",
              "  <style>\n",
              "    .colab-df-container {\n",
              "      display:flex;\n",
              "      flex-wrap:wrap;\n",
              "      gap: 12px;\n",
              "    }\n",
              "\n",
              "    .colab-df-convert {\n",
              "      background-color: #E8F0FE;\n",
              "      border: none;\n",
              "      border-radius: 50%;\n",
              "      cursor: pointer;\n",
              "      display: none;\n",
              "      fill: #1967D2;\n",
              "      height: 32px;\n",
              "      padding: 0 0 0 0;\n",
              "      width: 32px;\n",
              "    }\n",
              "\n",
              "    .colab-df-convert:hover {\n",
              "      background-color: #E2EBFA;\n",
              "      box-shadow: 0px 1px 2px rgba(60, 64, 67, 0.3), 0px 1px 3px 1px rgba(60, 64, 67, 0.15);\n",
              "      fill: #174EA6;\n",
              "    }\n",
              "\n",
              "    [theme=dark] .colab-df-convert {\n",
              "      background-color: #3B4455;\n",
              "      fill: #D2E3FC;\n",
              "    }\n",
              "\n",
              "    [theme=dark] .colab-df-convert:hover {\n",
              "      background-color: #434B5C;\n",
              "      box-shadow: 0px 1px 3px 1px rgba(0, 0, 0, 0.15);\n",
              "      filter: drop-shadow(0px 1px 2px rgba(0, 0, 0, 0.3));\n",
              "      fill: #FFFFFF;\n",
              "    }\n",
              "  </style>\n",
              "\n",
              "      <script>\n",
              "        const buttonEl =\n",
              "          document.querySelector('#df-a797048b-6b67-4887-bcad-f9c700ae14b1 button.colab-df-convert');\n",
              "        buttonEl.style.display =\n",
              "          google.colab.kernel.accessAllowed ? 'block' : 'none';\n",
              "\n",
              "        async function convertToInteractive(key) {\n",
              "          const element = document.querySelector('#df-a797048b-6b67-4887-bcad-f9c700ae14b1');\n",
              "          const dataTable =\n",
              "            await google.colab.kernel.invokeFunction('convertToInteractive',\n",
              "                                                     [key], {});\n",
              "          if (!dataTable) return;\n",
              "\n",
              "          const docLinkHtml = 'Like what you see? Visit the ' +\n",
              "            '<a target=\"_blank\" href=https://colab.research.google.com/notebooks/data_table.ipynb>data table notebook</a>'\n",
              "            + ' to learn more about interactive tables.';\n",
              "          element.innerHTML = '';\n",
              "          dataTable['output_type'] = 'display_data';\n",
              "          await google.colab.output.renderOutput(dataTable, element);\n",
              "          const docLink = document.createElement('div');\n",
              "          docLink.innerHTML = docLinkHtml;\n",
              "          element.appendChild(docLink);\n",
              "        }\n",
              "      </script>\n",
              "    </div>\n",
              "  </div>\n",
              "  "
            ]
          },
          "metadata": {},
          "execution_count": 20
        }
      ],
      "source": [
        "object_datatype=dftr.select_dtypes(include='object')\n",
        "object_datatype"
      ]
    },
    {
      "cell_type": "code",
      "execution_count": null,
      "id": "b9d568d2",
      "metadata": {
        "colab": {
          "base_uri": "https://localhost:8080/"
        },
        "id": "b9d568d2",
        "outputId": "8c7f2104-7da3-4a0f-a1ba-ba9ea13a48a8"
      },
      "outputs": [
        {
          "output_type": "execute_result",
          "data": {
            "text/plain": [
              "(524238, 88)"
            ]
          },
          "metadata": {},
          "execution_count": 21
        }
      ],
      "source": [
        "dftr.shape"
      ]
    },
    {
      "cell_type": "code",
      "execution_count": null,
      "id": "448a3d73",
      "metadata": {
        "colab": {
          "base_uri": "https://localhost:8080/"
        },
        "id": "448a3d73",
        "outputId": "11b87b9d-7f1a-45b2-996a-adb90d0a7ef5"
      },
      "outputs": [
        {
          "output_type": "execute_result",
          "data": {
            "text/plain": [
              "(524238, 77)"
            ]
          },
          "metadata": {},
          "execution_count": 22
        }
      ],
      "source": [
        "dftr=dftr.select_dtypes(include='number')\n",
        "dftr.shape"
      ]
    },
    {
      "cell_type": "code",
      "source": [
        "#Feature Selection using Constant removal and Recursive feature Eleimination"
      ],
      "metadata": {
        "id": "cjyHzBCTtCHi"
      },
      "id": "cjyHzBCTtCHi",
      "execution_count": null,
      "outputs": []
    },
    {
      "cell_type": "code",
      "execution_count": null,
      "id": "fee64976",
      "metadata": {
        "colab": {
          "base_uri": "https://localhost:8080/"
        },
        "id": "fee64976",
        "outputId": "66d0b0c1-5a85-4392-a9a0-5bfc7b4ab557"
      },
      "outputs": [
        {
          "output_type": "execute_result",
          "data": {
            "text/plain": [
              "VarianceThreshold(threshold=0)"
            ]
          },
          "metadata": {},
          "execution_count": 23
        }
      ],
      "source": [
        "# Constant removal feature eleimination\n",
        "from sklearn.feature_selection import VarianceThreshold\n",
        "var_threshold=VarianceThreshold(threshold=0)\n",
        "var_threshold.fit(dftr)"
      ]
    },
    {
      "cell_type": "code",
      "execution_count": null,
      "id": "17757015",
      "metadata": {
        "colab": {
          "base_uri": "https://localhost:8080/"
        },
        "id": "17757015",
        "outputId": "69baa0ff-92ac-4ca2-e8f6-71eefeb101b8"
      },
      "outputs": [
        {
          "output_type": "stream",
          "name": "stdout",
          "text": [
            "[0.00000000e+00 0.00000000e+00 2.01600000e+03 1.15477439e-05\n",
            " 1.15477439e-05 2.01628308e+03 1.50500000e+03 1.50500000e+03\n",
            " 0.00000000e+00 0.00000000e+00 0.00000000e+00 0.00000000e+00\n",
            " 0.00000000e+00 0.00000000e+00 0.00000000e+00 0.00000000e+00\n",
            " 0.00000000e+00 0.00000000e+00 0.00000000e+00 0.00000000e+00\n",
            " 0.00000000e+00 0.00000000e+00 0.00000000e+00 0.00000000e+00\n",
            " 0.00000000e+00 0.00000000e+00 0.00000000e+00 0.00000000e+00\n",
            " 0.00000000e+00 0.00000000e+00 0.00000000e+00 0.00000000e+00\n",
            " 0.00000000e+00 0.00000000e+00 0.00000000e+00 2.01626317e+09\n",
            " 0.00000000e+00 0.00000000e+00 0.00000000e+00 0.00000000e+00\n",
            " 0.00000000e+00 0.00000000e+00 0.00000000e+00 0.00000000e+00\n",
            " 5.30000000e+01 2.26039910e-02 0.00000000e+00 6.45423760e-02\n",
            " 6.45423760e-02 0.00000000e+00 0.00000000e+00 0.00000000e+00\n",
            " 0.00000000e+00 0.00000000e+00 0.00000000e+00 0.00000000e+00\n",
            " 0.00000000e+00 0.00000000e+00 1.69678921e+01 0.00000000e+00\n",
            " 0.00000000e+00 0.00000000e+00 4.27241199e-04 3.91908304e+00\n",
            " 5.07145668e-04 7.33146066e-02 6.93859010e-04 9.85220717e-04\n",
            " 0.00000000e+00 0.00000000e+00 3.14000000e+02 2.47023313e-02\n",
            " 4.09500000e+03 0.00000000e+00 0.00000000e+00 1.50500000e+03\n",
            " 5.98736723e-02]\n"
          ]
        }
      ],
      "source": [
        "print(var_threshold.variances_)"
      ]
    },
    {
      "cell_type": "code",
      "execution_count": null,
      "id": "13838ac6",
      "metadata": {
        "colab": {
          "base_uri": "https://localhost:8080/"
        },
        "id": "13838ac6",
        "outputId": "edd07e77-ce8f-469d-b080-d2e12199e45a"
      },
      "outputs": [
        {
          "output_type": "execute_result",
          "data": {
            "text/plain": [
              "array([False, False,  True,  True,  True,  True,  True,  True, False,\n",
              "       False, False, False, False, False, False, False, False, False,\n",
              "       False, False, False, False, False, False, False, False, False,\n",
              "       False, False, False, False, False, False, False, False,  True,\n",
              "       False, False, False, False, False, False, False, False,  True,\n",
              "        True, False,  True,  True, False, False, False, False, False,\n",
              "       False, False, False, False,  True, False, False, False,  True,\n",
              "        True,  True,  True,  True,  True, False, False,  True,  True,\n",
              "        True, False, False,  True,  True])"
            ]
          },
          "metadata": {},
          "execution_count": 25
        }
      ],
      "source": [
        "var_threshold.get_support()"
      ]
    },
    {
      "cell_type": "code",
      "execution_count": null,
      "id": "320209b6",
      "metadata": {
        "colab": {
          "base_uri": "https://localhost:8080/"
        },
        "id": "320209b6",
        "outputId": "f60a9e74-09e2-43cd-c856-f1a29ce8c231"
      },
      "outputs": [
        {
          "output_type": "stream",
          "name": "stdout",
          "text": [
            "54\n"
          ]
        }
      ],
      "source": [
        "constant_column=[column for column in dftr.columns\n",
        "                 if column not in dftr.columns[var_threshold.get_support()]]\n",
        "print(len(constant_column))"
      ]
    },
    {
      "cell_type": "code",
      "execution_count": null,
      "id": "7abb82aa",
      "metadata": {
        "colab": {
          "base_uri": "https://localhost:8080/"
        },
        "id": "7abb82aa",
        "outputId": "456beb85-1c29-4476-8aba-1dd1ee77ddc5"
      },
      "outputs": [
        {
          "output_type": "stream",
          "name": "stdout",
          "text": [
            "frame.interface_id\n",
            "frame.offset_shift\n",
            "frame.marked\n",
            "frame.ignored\n",
            "radiotap.version\n",
            "radiotap.pad\n",
            "radiotap.length\n",
            "radiotap.present.tsft\n",
            "radiotap.present.flags\n",
            "radiotap.present.rate\n",
            "radiotap.present.channel\n",
            "radiotap.present.fhss\n",
            "radiotap.present.dbm_antsignal\n",
            "radiotap.present.dbm_antnoise\n",
            "radiotap.present.lock_quality\n",
            "radiotap.present.tx_attenuation\n",
            "radiotap.present.db_tx_attenuation\n",
            "radiotap.present.dbm_tx_power\n",
            "radiotap.present.antenna\n",
            "radiotap.present.db_antsignal\n",
            "radiotap.present.db_antnoise\n",
            "radiotap.present.rxflags\n",
            "radiotap.present.xchannel\n",
            "radiotap.present.mcs\n",
            "radiotap.present.ampdu\n",
            "radiotap.present.vht\n",
            "radiotap.present.rtap_ns\n",
            "radiotap.present.vendor_ns\n",
            "radiotap.present.ext\n",
            "radiotap.flags.cfp\n",
            "radiotap.flags.preamble\n",
            "radiotap.flags.wep\n",
            "radiotap.flags.frag\n",
            "radiotap.flags.fcs\n",
            "radiotap.flags.datapad\n",
            "radiotap.flags.badfcs\n",
            "radiotap.flags.shortgi\n",
            "radiotap.channel.type.turbo\n",
            "radiotap.channel.type.2ghz\n",
            "radiotap.channel.type.5ghz\n",
            "radiotap.channel.type.passive\n",
            "radiotap.channel.type.dynamic\n",
            "radiotap.channel.type.gfsk\n",
            "radiotap.channel.type.gsm\n",
            "radiotap.channel.type.sturbo\n",
            "radiotap.channel.type.half\n",
            "radiotap.channel.type.quarter\n",
            "radiotap.antenna\n",
            "radiotap.rxflags.badplcp\n",
            "wlan.fc.version\n",
            "wlan.fc.protected\n",
            "wlan.fc.order\n",
            "wlan.fcs_good\n",
            "wlan.wep.key\n"
          ]
        }
      ],
      "source": [
        "for feature in constant_column:\n",
        "  print(feature)"
      ]
    },
    {
      "cell_type": "code",
      "execution_count": null,
      "id": "19ddb09e",
      "metadata": {
        "id": "19ddb09e"
      },
      "outputs": [],
      "source": [
        "dftr=dftr.drop(constant_column,axis=1)"
      ]
    },
    {
      "cell_type": "code",
      "execution_count": null,
      "id": "4fb7b72a",
      "metadata": {
        "colab": {
          "base_uri": "https://localhost:8080/"
        },
        "id": "4fb7b72a",
        "outputId": "e50b48fc-c477-4410-8890-7135c4aafef4"
      },
      "outputs": [
        {
          "output_type": "execute_result",
          "data": {
            "text/plain": [
              "(524238, 23)"
            ]
          },
          "metadata": {},
          "execution_count": 29
        }
      ],
      "source": [
        "dftr.shape"
      ]
    },
    {
      "cell_type": "code",
      "execution_count": null,
      "id": "6ea58c10",
      "metadata": {
        "colab": {
          "base_uri": "https://localhost:8080/",
          "height": 299
        },
        "id": "6ea58c10",
        "outputId": "ab1c1907-6323-4c77-8ded-61d63e2ea5d7"
      },
      "outputs": [
        {
          "output_type": "execute_result",
          "data": {
            "text/plain": [
              "    frame.time_epoch  frame.time_delta  frame.time_delta_displayed  \\\n",
              "17        1393661303          0.002270                    0.002270   \n",
              "18        1393661303          0.000621                    0.000621   \n",
              "20        1393661303          0.000144                    0.000144   \n",
              "28        1393661303          0.021711                    0.021711   \n",
              "31        1393661303          0.000058                    0.000058   \n",
              "\n",
              "    frame.time_relative  frame.len  frame.cap_len  radiotap.mactime  \\\n",
              "17             0.217518       1524           1524      2.101817e+09   \n",
              "18             0.218139        124            124      2.101818e+09   \n",
              "20             0.229118        153            153      2.101829e+09   \n",
              "28             0.367359        124            124      2.101967e+09   \n",
              "31             0.380933        124            124      2.101981e+09   \n",
              "\n",
              "    radiotap.datarate  radiotap.channel.freq  radiotap.channel.type.cck  ...  \\\n",
              "17                 54                 2437.0                        0.0  ...   \n",
              "18                 54                 2437.0                        0.0  ...   \n",
              "20                 54                 2437.0                        0.0  ...   \n",
              "28                 54                 2437.0                        0.0  ...   \n",
              "31                 54                 2437.0                        0.0  ...   \n",
              "\n",
              "    wlan.fc.type  wlan.fc.subtype  wlan.fc.frag  wlan.fc.retry  \\\n",
              "17             2                8             0              0   \n",
              "18             2                8             0              0   \n",
              "20             2                8             0              0   \n",
              "28             2                8             0              0   \n",
              "31             2                8             0              0   \n",
              "\n",
              "    wlan.fc.pwrmgt  wlan.fc.moredata  wlan.duration  wlan.frag  wlan.seq  \\\n",
              "17               0                 0           44.0          0        96   \n",
              "18               0                 0           44.0          0      1217   \n",
              "20               0                 0           44.0          0        97   \n",
              "28               0                 0           44.0          0      1220   \n",
              "31               0                 0           44.0          0        99   \n",
              "\n",
              "    data.len  \n",
              "17      1460  \n",
              "18        60  \n",
              "20        89  \n",
              "28        60  \n",
              "31        60  \n",
              "\n",
              "[5 rows x 22 columns]"
            ],
            "text/html": [
              "\n",
              "  <div id=\"df-8d8bc932-e253-4edd-a266-8174811bce80\">\n",
              "    <div class=\"colab-df-container\">\n",
              "      <div>\n",
              "<style scoped>\n",
              "    .dataframe tbody tr th:only-of-type {\n",
              "        vertical-align: middle;\n",
              "    }\n",
              "\n",
              "    .dataframe tbody tr th {\n",
              "        vertical-align: top;\n",
              "    }\n",
              "\n",
              "    .dataframe thead th {\n",
              "        text-align: right;\n",
              "    }\n",
              "</style>\n",
              "<table border=\"1\" class=\"dataframe\">\n",
              "  <thead>\n",
              "    <tr style=\"text-align: right;\">\n",
              "      <th></th>\n",
              "      <th>frame.time_epoch</th>\n",
              "      <th>frame.time_delta</th>\n",
              "      <th>frame.time_delta_displayed</th>\n",
              "      <th>frame.time_relative</th>\n",
              "      <th>frame.len</th>\n",
              "      <th>frame.cap_len</th>\n",
              "      <th>radiotap.mactime</th>\n",
              "      <th>radiotap.datarate</th>\n",
              "      <th>radiotap.channel.freq</th>\n",
              "      <th>radiotap.channel.type.cck</th>\n",
              "      <th>...</th>\n",
              "      <th>wlan.fc.type</th>\n",
              "      <th>wlan.fc.subtype</th>\n",
              "      <th>wlan.fc.frag</th>\n",
              "      <th>wlan.fc.retry</th>\n",
              "      <th>wlan.fc.pwrmgt</th>\n",
              "      <th>wlan.fc.moredata</th>\n",
              "      <th>wlan.duration</th>\n",
              "      <th>wlan.frag</th>\n",
              "      <th>wlan.seq</th>\n",
              "      <th>data.len</th>\n",
              "    </tr>\n",
              "  </thead>\n",
              "  <tbody>\n",
              "    <tr>\n",
              "      <th>17</th>\n",
              "      <td>1393661303</td>\n",
              "      <td>0.002270</td>\n",
              "      <td>0.002270</td>\n",
              "      <td>0.217518</td>\n",
              "      <td>1524</td>\n",
              "      <td>1524</td>\n",
              "      <td>2.101817e+09</td>\n",
              "      <td>54</td>\n",
              "      <td>2437.0</td>\n",
              "      <td>0.0</td>\n",
              "      <td>...</td>\n",
              "      <td>2</td>\n",
              "      <td>8</td>\n",
              "      <td>0</td>\n",
              "      <td>0</td>\n",
              "      <td>0</td>\n",
              "      <td>0</td>\n",
              "      <td>44.0</td>\n",
              "      <td>0</td>\n",
              "      <td>96</td>\n",
              "      <td>1460</td>\n",
              "    </tr>\n",
              "    <tr>\n",
              "      <th>18</th>\n",
              "      <td>1393661303</td>\n",
              "      <td>0.000621</td>\n",
              "      <td>0.000621</td>\n",
              "      <td>0.218139</td>\n",
              "      <td>124</td>\n",
              "      <td>124</td>\n",
              "      <td>2.101818e+09</td>\n",
              "      <td>54</td>\n",
              "      <td>2437.0</td>\n",
              "      <td>0.0</td>\n",
              "      <td>...</td>\n",
              "      <td>2</td>\n",
              "      <td>8</td>\n",
              "      <td>0</td>\n",
              "      <td>0</td>\n",
              "      <td>0</td>\n",
              "      <td>0</td>\n",
              "      <td>44.0</td>\n",
              "      <td>0</td>\n",
              "      <td>1217</td>\n",
              "      <td>60</td>\n",
              "    </tr>\n",
              "    <tr>\n",
              "      <th>20</th>\n",
              "      <td>1393661303</td>\n",
              "      <td>0.000144</td>\n",
              "      <td>0.000144</td>\n",
              "      <td>0.229118</td>\n",
              "      <td>153</td>\n",
              "      <td>153</td>\n",
              "      <td>2.101829e+09</td>\n",
              "      <td>54</td>\n",
              "      <td>2437.0</td>\n",
              "      <td>0.0</td>\n",
              "      <td>...</td>\n",
              "      <td>2</td>\n",
              "      <td>8</td>\n",
              "      <td>0</td>\n",
              "      <td>0</td>\n",
              "      <td>0</td>\n",
              "      <td>0</td>\n",
              "      <td>44.0</td>\n",
              "      <td>0</td>\n",
              "      <td>97</td>\n",
              "      <td>89</td>\n",
              "    </tr>\n",
              "    <tr>\n",
              "      <th>28</th>\n",
              "      <td>1393661303</td>\n",
              "      <td>0.021711</td>\n",
              "      <td>0.021711</td>\n",
              "      <td>0.367359</td>\n",
              "      <td>124</td>\n",
              "      <td>124</td>\n",
              "      <td>2.101967e+09</td>\n",
              "      <td>54</td>\n",
              "      <td>2437.0</td>\n",
              "      <td>0.0</td>\n",
              "      <td>...</td>\n",
              "      <td>2</td>\n",
              "      <td>8</td>\n",
              "      <td>0</td>\n",
              "      <td>0</td>\n",
              "      <td>0</td>\n",
              "      <td>0</td>\n",
              "      <td>44.0</td>\n",
              "      <td>0</td>\n",
              "      <td>1220</td>\n",
              "      <td>60</td>\n",
              "    </tr>\n",
              "    <tr>\n",
              "      <th>31</th>\n",
              "      <td>1393661303</td>\n",
              "      <td>0.000058</td>\n",
              "      <td>0.000058</td>\n",
              "      <td>0.380933</td>\n",
              "      <td>124</td>\n",
              "      <td>124</td>\n",
              "      <td>2.101981e+09</td>\n",
              "      <td>54</td>\n",
              "      <td>2437.0</td>\n",
              "      <td>0.0</td>\n",
              "      <td>...</td>\n",
              "      <td>2</td>\n",
              "      <td>8</td>\n",
              "      <td>0</td>\n",
              "      <td>0</td>\n",
              "      <td>0</td>\n",
              "      <td>0</td>\n",
              "      <td>44.0</td>\n",
              "      <td>0</td>\n",
              "      <td>99</td>\n",
              "      <td>60</td>\n",
              "    </tr>\n",
              "  </tbody>\n",
              "</table>\n",
              "<p>5 rows × 22 columns</p>\n",
              "</div>\n",
              "      <button class=\"colab-df-convert\" onclick=\"convertToInteractive('df-8d8bc932-e253-4edd-a266-8174811bce80')\"\n",
              "              title=\"Convert this dataframe to an interactive table.\"\n",
              "              style=\"display:none;\">\n",
              "        \n",
              "  <svg xmlns=\"http://www.w3.org/2000/svg\" height=\"24px\"viewBox=\"0 0 24 24\"\n",
              "       width=\"24px\">\n",
              "    <path d=\"M0 0h24v24H0V0z\" fill=\"none\"/>\n",
              "    <path d=\"M18.56 5.44l.94 2.06.94-2.06 2.06-.94-2.06-.94-.94-2.06-.94 2.06-2.06.94zm-11 1L8.5 8.5l.94-2.06 2.06-.94-2.06-.94L8.5 2.5l-.94 2.06-2.06.94zm10 10l.94 2.06.94-2.06 2.06-.94-2.06-.94-.94-2.06-.94 2.06-2.06.94z\"/><path d=\"M17.41 7.96l-1.37-1.37c-.4-.4-.92-.59-1.43-.59-.52 0-1.04.2-1.43.59L10.3 9.45l-7.72 7.72c-.78.78-.78 2.05 0 2.83L4 21.41c.39.39.9.59 1.41.59.51 0 1.02-.2 1.41-.59l7.78-7.78 2.81-2.81c.8-.78.8-2.07 0-2.86zM5.41 20L4 18.59l7.72-7.72 1.47 1.35L5.41 20z\"/>\n",
              "  </svg>\n",
              "      </button>\n",
              "      \n",
              "  <style>\n",
              "    .colab-df-container {\n",
              "      display:flex;\n",
              "      flex-wrap:wrap;\n",
              "      gap: 12px;\n",
              "    }\n",
              "\n",
              "    .colab-df-convert {\n",
              "      background-color: #E8F0FE;\n",
              "      border: none;\n",
              "      border-radius: 50%;\n",
              "      cursor: pointer;\n",
              "      display: none;\n",
              "      fill: #1967D2;\n",
              "      height: 32px;\n",
              "      padding: 0 0 0 0;\n",
              "      width: 32px;\n",
              "    }\n",
              "\n",
              "    .colab-df-convert:hover {\n",
              "      background-color: #E2EBFA;\n",
              "      box-shadow: 0px 1px 2px rgba(60, 64, 67, 0.3), 0px 1px 3px 1px rgba(60, 64, 67, 0.15);\n",
              "      fill: #174EA6;\n",
              "    }\n",
              "\n",
              "    [theme=dark] .colab-df-convert {\n",
              "      background-color: #3B4455;\n",
              "      fill: #D2E3FC;\n",
              "    }\n",
              "\n",
              "    [theme=dark] .colab-df-convert:hover {\n",
              "      background-color: #434B5C;\n",
              "      box-shadow: 0px 1px 3px 1px rgba(0, 0, 0, 0.15);\n",
              "      filter: drop-shadow(0px 1px 2px rgba(0, 0, 0, 0.3));\n",
              "      fill: #FFFFFF;\n",
              "    }\n",
              "  </style>\n",
              "\n",
              "      <script>\n",
              "        const buttonEl =\n",
              "          document.querySelector('#df-8d8bc932-e253-4edd-a266-8174811bce80 button.colab-df-convert');\n",
              "        buttonEl.style.display =\n",
              "          google.colab.kernel.accessAllowed ? 'block' : 'none';\n",
              "\n",
              "        async function convertToInteractive(key) {\n",
              "          const element = document.querySelector('#df-8d8bc932-e253-4edd-a266-8174811bce80');\n",
              "          const dataTable =\n",
              "            await google.colab.kernel.invokeFunction('convertToInteractive',\n",
              "                                                     [key], {});\n",
              "          if (!dataTable) return;\n",
              "\n",
              "          const docLinkHtml = 'Like what you see? Visit the ' +\n",
              "            '<a target=\"_blank\" href=https://colab.research.google.com/notebooks/data_table.ipynb>data table notebook</a>'\n",
              "            + ' to learn more about interactive tables.';\n",
              "          element.innerHTML = '';\n",
              "          dataTable['output_type'] = 'display_data';\n",
              "          await google.colab.output.renderOutput(dataTable, element);\n",
              "          const docLink = document.createElement('div');\n",
              "          docLink.innerHTML = docLinkHtml;\n",
              "          element.appendChild(docLink);\n",
              "        }\n",
              "      </script>\n",
              "    </div>\n",
              "  </div>\n",
              "  "
            ]
          },
          "metadata": {},
          "execution_count": 30
        }
      ],
      "source": [
        "X_tr=dftr.drop('class_n',axis=1)\n",
        "X_tr.head()"
      ]
    },
    {
      "cell_type": "code",
      "execution_count": null,
      "id": "a7272911",
      "metadata": {
        "colab": {
          "base_uri": "https://localhost:8080/"
        },
        "id": "a7272911",
        "outputId": "92668afb-44b9-4878-a40c-2e70d205dcf8"
      },
      "outputs": [
        {
          "output_type": "execute_result",
          "data": {
            "text/plain": [
              "(524238, 22)"
            ]
          },
          "metadata": {},
          "execution_count": 31
        }
      ],
      "source": [
        "X_tr.shape"
      ]
    },
    {
      "cell_type": "code",
      "execution_count": null,
      "id": "4464bfbb",
      "metadata": {
        "colab": {
          "base_uri": "https://localhost:8080/",
          "height": 206
        },
        "id": "4464bfbb",
        "outputId": "fb920af2-c085-409d-e799-3e4ac5efed7c"
      },
      "outputs": [
        {
          "output_type": "execute_result",
          "data": {
            "text/plain": [
              "    class_n\n",
              "17        1\n",
              "18        1\n",
              "20        1\n",
              "28        1\n",
              "31        1"
            ],
            "text/html": [
              "\n",
              "  <div id=\"df-16fe6817-16e7-4059-bdd2-8b6801c25e55\">\n",
              "    <div class=\"colab-df-container\">\n",
              "      <div>\n",
              "<style scoped>\n",
              "    .dataframe tbody tr th:only-of-type {\n",
              "        vertical-align: middle;\n",
              "    }\n",
              "\n",
              "    .dataframe tbody tr th {\n",
              "        vertical-align: top;\n",
              "    }\n",
              "\n",
              "    .dataframe thead th {\n",
              "        text-align: right;\n",
              "    }\n",
              "</style>\n",
              "<table border=\"1\" class=\"dataframe\">\n",
              "  <thead>\n",
              "    <tr style=\"text-align: right;\">\n",
              "      <th></th>\n",
              "      <th>class_n</th>\n",
              "    </tr>\n",
              "  </thead>\n",
              "  <tbody>\n",
              "    <tr>\n",
              "      <th>17</th>\n",
              "      <td>1</td>\n",
              "    </tr>\n",
              "    <tr>\n",
              "      <th>18</th>\n",
              "      <td>1</td>\n",
              "    </tr>\n",
              "    <tr>\n",
              "      <th>20</th>\n",
              "      <td>1</td>\n",
              "    </tr>\n",
              "    <tr>\n",
              "      <th>28</th>\n",
              "      <td>1</td>\n",
              "    </tr>\n",
              "    <tr>\n",
              "      <th>31</th>\n",
              "      <td>1</td>\n",
              "    </tr>\n",
              "  </tbody>\n",
              "</table>\n",
              "</div>\n",
              "      <button class=\"colab-df-convert\" onclick=\"convertToInteractive('df-16fe6817-16e7-4059-bdd2-8b6801c25e55')\"\n",
              "              title=\"Convert this dataframe to an interactive table.\"\n",
              "              style=\"display:none;\">\n",
              "        \n",
              "  <svg xmlns=\"http://www.w3.org/2000/svg\" height=\"24px\"viewBox=\"0 0 24 24\"\n",
              "       width=\"24px\">\n",
              "    <path d=\"M0 0h24v24H0V0z\" fill=\"none\"/>\n",
              "    <path d=\"M18.56 5.44l.94 2.06.94-2.06 2.06-.94-2.06-.94-.94-2.06-.94 2.06-2.06.94zm-11 1L8.5 8.5l.94-2.06 2.06-.94-2.06-.94L8.5 2.5l-.94 2.06-2.06.94zm10 10l.94 2.06.94-2.06 2.06-.94-2.06-.94-.94-2.06-.94 2.06-2.06.94z\"/><path d=\"M17.41 7.96l-1.37-1.37c-.4-.4-.92-.59-1.43-.59-.52 0-1.04.2-1.43.59L10.3 9.45l-7.72 7.72c-.78.78-.78 2.05 0 2.83L4 21.41c.39.39.9.59 1.41.59.51 0 1.02-.2 1.41-.59l7.78-7.78 2.81-2.81c.8-.78.8-2.07 0-2.86zM5.41 20L4 18.59l7.72-7.72 1.47 1.35L5.41 20z\"/>\n",
              "  </svg>\n",
              "      </button>\n",
              "      \n",
              "  <style>\n",
              "    .colab-df-container {\n",
              "      display:flex;\n",
              "      flex-wrap:wrap;\n",
              "      gap: 12px;\n",
              "    }\n",
              "\n",
              "    .colab-df-convert {\n",
              "      background-color: #E8F0FE;\n",
              "      border: none;\n",
              "      border-radius: 50%;\n",
              "      cursor: pointer;\n",
              "      display: none;\n",
              "      fill: #1967D2;\n",
              "      height: 32px;\n",
              "      padding: 0 0 0 0;\n",
              "      width: 32px;\n",
              "    }\n",
              "\n",
              "    .colab-df-convert:hover {\n",
              "      background-color: #E2EBFA;\n",
              "      box-shadow: 0px 1px 2px rgba(60, 64, 67, 0.3), 0px 1px 3px 1px rgba(60, 64, 67, 0.15);\n",
              "      fill: #174EA6;\n",
              "    }\n",
              "\n",
              "    [theme=dark] .colab-df-convert {\n",
              "      background-color: #3B4455;\n",
              "      fill: #D2E3FC;\n",
              "    }\n",
              "\n",
              "    [theme=dark] .colab-df-convert:hover {\n",
              "      background-color: #434B5C;\n",
              "      box-shadow: 0px 1px 3px 1px rgba(0, 0, 0, 0.15);\n",
              "      filter: drop-shadow(0px 1px 2px rgba(0, 0, 0, 0.3));\n",
              "      fill: #FFFFFF;\n",
              "    }\n",
              "  </style>\n",
              "\n",
              "      <script>\n",
              "        const buttonEl =\n",
              "          document.querySelector('#df-16fe6817-16e7-4059-bdd2-8b6801c25e55 button.colab-df-convert');\n",
              "        buttonEl.style.display =\n",
              "          google.colab.kernel.accessAllowed ? 'block' : 'none';\n",
              "\n",
              "        async function convertToInteractive(key) {\n",
              "          const element = document.querySelector('#df-16fe6817-16e7-4059-bdd2-8b6801c25e55');\n",
              "          const dataTable =\n",
              "            await google.colab.kernel.invokeFunction('convertToInteractive',\n",
              "                                                     [key], {});\n",
              "          if (!dataTable) return;\n",
              "\n",
              "          const docLinkHtml = 'Like what you see? Visit the ' +\n",
              "            '<a target=\"_blank\" href=https://colab.research.google.com/notebooks/data_table.ipynb>data table notebook</a>'\n",
              "            + ' to learn more about interactive tables.';\n",
              "          element.innerHTML = '';\n",
              "          dataTable['output_type'] = 'display_data';\n",
              "          await google.colab.output.renderOutput(dataTable, element);\n",
              "          const docLink = document.createElement('div');\n",
              "          docLink.innerHTML = docLinkHtml;\n",
              "          element.appendChild(docLink);\n",
              "        }\n",
              "      </script>\n",
              "    </div>\n",
              "  </div>\n",
              "  "
            ]
          },
          "metadata": {},
          "execution_count": 32
        }
      ],
      "source": [
        "y_tr=dftr[['class_n']]\n",
        "y_tr.head()"
      ]
    },
    {
      "cell_type": "code",
      "execution_count": null,
      "id": "7618710e",
      "metadata": {
        "colab": {
          "base_uri": "https://localhost:8080/"
        },
        "id": "7618710e",
        "outputId": "c0ddf560-55fa-48da-82e8-61f0de7d2cb9"
      },
      "outputs": [
        {
          "output_type": "execute_result",
          "data": {
            "text/plain": [
              "(524238, 1)"
            ]
          },
          "metadata": {},
          "execution_count": 33
        }
      ],
      "source": [
        "y_tr.shape"
      ]
    },
    {
      "cell_type": "code",
      "execution_count": null,
      "id": "013aec4a",
      "metadata": {
        "id": "013aec4a"
      },
      "outputs": [],
      "source": [
        "#testing Dataset\n",
        "dfte=pd.read_csv('/content/drive/MyDrive/ML Project/Detection of injection attack in Wi-Fi /AWID_CLS_R_TST_N.csv')\n",
        "\n",
        "dfte.replace({\"?\": None}, inplace=True)\n",
        "null_percentage_te = dfte.isna().sum()*100.0/dfte.shape[0]\n",
        "col_to_drop_te = null_percentage_te[null_percentage_te>=45].keys()\n",
        "dfte = dfte.drop(col_to_drop_te,axis=1)\n",
        "dfte.dropna(inplace=True)\n",
        "\n",
        "\n",
        "# Label Encoding with test dataset\n",
        "from sklearn.preprocessing import LabelEncoder\n",
        "le_Class_te = LabelEncoder()\n",
        "dfte['class_n'] = le_Class_te.fit_transform(dfte['class'])\n",
        "dfte = dfte.drop('class', axis=1)\n",
        "\n",
        "\n",
        "# Convert Dataset(object type of data) into numeric\n",
        "for col in dfte.columns:\n",
        "    dfte[col] = pd.to_numeric(dfte[col], errors='ignore')\n",
        "\n",
        "dfte = dfte.select_dtypes(include='number')\n",
        "\n",
        "# Constant removal feature eleimination\n",
        "\n",
        "from sklearn.feature_selection import VarianceThreshold\n",
        "var_threshold_te = VarianceThreshold(threshold=0)\n",
        "var_threshold_te.fit(dfte)\n",
        "var_threshold_te.variances_\n",
        "var_threshold_te.get_support()\n",
        "constant_column_te = [column for column in dfte.columns \n",
        "                   if column not in dfte.columns[var_threshold_te.get_support()]]\n",
        "\n",
        "dfte = dfte.drop(constant_column_te , axis = 1)\n",
        "\n",
        "X_te = dfte.drop('class_n',axis=1)\n",
        "y_te = dfte.class_n"
      ]
    },
    {
      "cell_type": "code",
      "execution_count": null,
      "id": "40ee9569",
      "metadata": {
        "colab": {
          "base_uri": "https://localhost:8080/"
        },
        "id": "40ee9569",
        "outputId": "26b3a5ed-a851-4711-c439-adbbd91a57fc"
      },
      "outputs": [
        {
          "output_type": "execute_result",
          "data": {
            "text/plain": [
              "(362967, 23)"
            ]
          },
          "metadata": {},
          "execution_count": 35
        }
      ],
      "source": [
        "dfte.shape"
      ]
    },
    {
      "cell_type": "code",
      "execution_count": null,
      "id": "1401729b",
      "metadata": {
        "colab": {
          "base_uri": "https://localhost:8080/"
        },
        "id": "1401729b",
        "outputId": "091a7b8b-9bca-450c-fcb5-48c86c484da0"
      },
      "outputs": [
        {
          "output_type": "execute_result",
          "data": {
            "text/plain": [
              "(524238, 23)"
            ]
          },
          "metadata": {},
          "execution_count": 36
        }
      ],
      "source": [
        "dftr.shape"
      ]
    },
    {
      "cell_type": "code",
      "execution_count": null,
      "id": "cee3ce63",
      "metadata": {
        "colab": {
          "base_uri": "https://localhost:8080/"
        },
        "id": "cee3ce63",
        "outputId": "8772814c-b273-4dea-f2c8-c08ae785274f"
      },
      "outputs": [
        {
          "output_type": "execute_result",
          "data": {
            "text/plain": [
              "(524238, 22)"
            ]
          },
          "metadata": {},
          "execution_count": 37
        }
      ],
      "source": [
        "X_tr.shape"
      ]
    },
    {
      "cell_type": "code",
      "execution_count": null,
      "id": "c953aadb",
      "metadata": {
        "colab": {
          "base_uri": "https://localhost:8080/"
        },
        "id": "c953aadb",
        "outputId": "1140730a-9586-45ac-92c3-884421ffba43"
      },
      "outputs": [
        {
          "output_type": "execute_result",
          "data": {
            "text/plain": [
              "(362967, 22)"
            ]
          },
          "metadata": {},
          "execution_count": 38
        }
      ],
      "source": [
        "X_te.shape"
      ]
    },
    {
      "cell_type": "code",
      "execution_count": null,
      "id": "8bd41bfc",
      "metadata": {
        "colab": {
          "base_uri": "https://localhost:8080/"
        },
        "id": "8bd41bfc",
        "outputId": "d71f1ae0-a471-4cf3-a4d7-171e186839b8"
      },
      "outputs": [
        {
          "output_type": "stream",
          "name": "stderr",
          "text": [
            "/usr/local/lib/python3.7/dist-packages/sklearn/base.py:493: FutureWarning: The feature names should match those that were passed during fit. Starting version 1.2, an error will be raised.\n",
            "Feature names unseen at fit time:\n",
            "- wlan.fc.protected\n",
            "Feature names seen at fit time, yet now missing:\n",
            "- data.len\n",
            "\n",
            "  warnings.warn(message, FutureWarning)\n"
          ]
        },
        {
          "output_type": "execute_result",
          "data": {
            "text/plain": [
              "0.9540398989439811"
            ]
          },
          "metadata": {},
          "execution_count": 39
        }
      ],
      "source": [
        "from sklearn import tree\n",
        "model1 = tree.DecisionTreeClassifier()\n",
        "model1.fit(X_tr, y_tr)\n",
        "model1.score(X_te, y_te)"
      ]
    },
    {
      "cell_type": "code",
      "execution_count": null,
      "id": "b7436e24",
      "metadata": {
        "colab": {
          "base_uri": "https://localhost:8080/"
        },
        "id": "b7436e24",
        "outputId": "532d240f-3c01-43a2-a74a-5ee934b363ff"
      },
      "outputs": [
        {
          "output_type": "stream",
          "name": "stderr",
          "text": [
            "/usr/local/lib/python3.7/dist-packages/ipykernel_launcher.py:3: DataConversionWarning: A column-vector y was passed when a 1d array was expected. Please change the shape of y to (n_samples,), for example using ravel().\n",
            "  This is separate from the ipykernel package so we can avoid doing imports until\n",
            "/usr/local/lib/python3.7/dist-packages/sklearn/base.py:493: FutureWarning: The feature names should match those that were passed during fit. Starting version 1.2, an error will be raised.\n",
            "Feature names unseen at fit time:\n",
            "- wlan.fc.protected\n",
            "Feature names seen at fit time, yet now missing:\n",
            "- data.len\n",
            "\n",
            "  warnings.warn(message, FutureWarning)\n"
          ]
        },
        {
          "output_type": "execute_result",
          "data": {
            "text/plain": [
              "0.9540398989439811"
            ]
          },
          "metadata": {},
          "execution_count": 40
        }
      ],
      "source": [
        "from sklearn.ensemble import RandomForestClassifier\n",
        "model2 = RandomForestClassifier(n_estimators=20)\n",
        "model2.fit(X_tr,y_tr)\n",
        "model2.score(X_te,y_te)"
      ]
    },
    {
      "cell_type": "code",
      "execution_count": null,
      "id": "89aaad37",
      "metadata": {
        "colab": {
          "base_uri": "https://localhost:8080/"
        },
        "id": "89aaad37",
        "outputId": "5e8ed2f2-0038-4eda-fbdc-c559b74d0b8e"
      },
      "outputs": [
        {
          "output_type": "stream",
          "name": "stderr",
          "text": [
            "/usr/local/lib/python3.7/dist-packages/sklearn/base.py:493: FutureWarning: The feature names should match those that were passed during fit. Starting version 1.2, an error will be raised.\n",
            "Feature names unseen at fit time:\n",
            "- wlan.fc.protected\n",
            "Feature names seen at fit time, yet now missing:\n",
            "- data.len\n",
            "\n",
            "  warnings.warn(message, FutureWarning)\n"
          ]
        },
        {
          "output_type": "execute_result",
          "data": {
            "text/plain": [
              "array([[     0,  16682],\n",
              "       [     0, 346285]])"
            ]
          },
          "metadata": {},
          "execution_count": 41
        }
      ],
      "source": [
        "# Confusion Matrix\n",
        "y_predicted = model2.predict(X_te)\n",
        "from sklearn.metrics import confusion_matrix\n",
        "cm = confusion_matrix(y_te,y_predicted)\n",
        "cm"
      ]
    },
    {
      "cell_type": "code",
      "execution_count": null,
      "id": "5e1c0a24",
      "metadata": {
        "colab": {
          "base_uri": "https://localhost:8080/",
          "height": 460
        },
        "id": "5e1c0a24",
        "outputId": "e7a3d4e2-1f16-4969-e46a-dade71cabdab"
      },
      "outputs": [
        {
          "output_type": "execute_result",
          "data": {
            "text/plain": [
              "Text(69.0, 0.5, 'Truth')"
            ]
          },
          "metadata": {},
          "execution_count": 42
        },
        {
          "output_type": "display_data",
          "data": {
            "text/plain": [
              "<Figure size 720x504 with 2 Axes>"
            ],
            "image/png": "[encoded data removed]"
          },
          "metadata": {
            "needs_background": "light"
          }
        }
      ],
      "source": [
        "import seaborn as sn\n",
        "plt.figure(figsize=(10,7))\n",
        "sn.heatmap(cm, annot=True)\n",
        "plt.xlabel('Predicted')\n",
        "plt.ylabel('Truth')"
      ]
    },
    {
      "cell_type": "code",
      "source": [
        "# # Recursive feature Eleimination\n",
        "\n",
        "from sklearn.feature_selection import RFE\n",
        "from sklearn.ensemble import RandomForestClassifier\n",
        "\n",
        "select = RFE(RandomForestClassifier(n_estimators=100, random_state=42),n_features_to_select=8)\n",
        "select.fit(X_tr,y_tr)\n",
        "X_tr_new = select.transform(X_tr)\n",
        "\n",
        "print(\"X_tr.shape : {}\".format(X_tr.shape))\n",
        "print(\"X_tr_new :{}\".format(X_tr_new.shape))"
      ],
      "metadata": {
        "colab": {
          "base_uri": "https://localhost:8080/"
        },
        "id": "Ta3Ojj5HfqoO",
        "outputId": "e7185d70-127e-465f-c252-3fbad674c924"
      },
      "id": "Ta3Ojj5HfqoO",
      "execution_count": null,
      "outputs": [
        {
          "output_type": "stream",
          "name": "stderr",
          "text": [
            "/usr/local/lib/python3.7/dist-packages/sklearn/feature_selection/_rfe.py:283: DataConversionWarning: A column-vector y was passed when a 1d array was expected. Please change the shape of y to (n_samples,), for example using ravel().\n",
            "  estimator.fit(X[:, features], y, **fit_params)\n",
            "/usr/local/lib/python3.7/dist-packages/sklearn/feature_selection/_rfe.py:283: DataConversionWarning: A column-vector y was passed when a 1d array was expected. Please change the shape of y to (n_samples,), for example using ravel().\n",
            "  estimator.fit(X[:, features], y, **fit_params)\n",
            "/usr/local/lib/python3.7/dist-packages/sklearn/feature_selection/_rfe.py:283: DataConversionWarning: A column-vector y was passed when a 1d array was expected. Please change the shape of y to (n_samples,), for example using ravel().\n",
            "  estimator.fit(X[:, features], y, **fit_params)\n",
            "/usr/local/lib/python3.7/dist-packages/sklearn/feature_selection/_rfe.py:283: DataConversionWarning: A column-vector y was passed when a 1d array was expected. Please change the shape of y to (n_samples,), for example using ravel().\n",
            "  estimator.fit(X[:, features], y, **fit_params)\n",
            "/usr/local/lib/python3.7/dist-packages/sklearn/feature_selection/_rfe.py:283: DataConversionWarning: A column-vector y was passed when a 1d array was expected. Please change the shape of y to (n_samples,), for example using ravel().\n",
            "  estimator.fit(X[:, features], y, **fit_params)\n",
            "/usr/local/lib/python3.7/dist-packages/sklearn/feature_selection/_rfe.py:283: DataConversionWarning: A column-vector y was passed when a 1d array was expected. Please change the shape of y to (n_samples,), for example using ravel().\n",
            "  estimator.fit(X[:, features], y, **fit_params)\n",
            "/usr/local/lib/python3.7/dist-packages/sklearn/feature_selection/_rfe.py:283: DataConversionWarning: A column-vector y was passed when a 1d array was expected. Please change the shape of y to (n_samples,), for example using ravel().\n",
            "  estimator.fit(X[:, features], y, **fit_params)\n",
            "/usr/local/lib/python3.7/dist-packages/sklearn/feature_selection/_rfe.py:283: DataConversionWarning: A column-vector y was passed when a 1d array was expected. Please change the shape of y to (n_samples,), for example using ravel().\n",
            "  estimator.fit(X[:, features], y, **fit_params)\n",
            "/usr/local/lib/python3.7/dist-packages/sklearn/feature_selection/_rfe.py:283: DataConversionWarning: A column-vector y was passed when a 1d array was expected. Please change the shape of y to (n_samples,), for example using ravel().\n",
            "  estimator.fit(X[:, features], y, **fit_params)\n",
            "/usr/local/lib/python3.7/dist-packages/sklearn/feature_selection/_rfe.py:283: DataConversionWarning: A column-vector y was passed when a 1d array was expected. Please change the shape of y to (n_samples,), for example using ravel().\n",
            "  estimator.fit(X[:, features], y, **fit_params)\n",
            "/usr/local/lib/python3.7/dist-packages/sklearn/feature_selection/_rfe.py:283: DataConversionWarning: A column-vector y was passed when a 1d array was expected. Please change the shape of y to (n_samples,), for example using ravel().\n",
            "  estimator.fit(X[:, features], y, **fit_params)\n",
            "/usr/local/lib/python3.7/dist-packages/sklearn/feature_selection/_rfe.py:283: DataConversionWarning: A column-vector y was passed when a 1d array was expected. Please change the shape of y to (n_samples,), for example using ravel().\n",
            "  estimator.fit(X[:, features], y, **fit_params)\n",
            "/usr/local/lib/python3.7/dist-packages/sklearn/feature_selection/_rfe.py:283: DataConversionWarning: A column-vector y was passed when a 1d array was expected. Please change the shape of y to (n_samples,), for example using ravel().\n",
            "  estimator.fit(X[:, features], y, **fit_params)\n",
            "/usr/local/lib/python3.7/dist-packages/sklearn/feature_selection/_rfe.py:283: DataConversionWarning: A column-vector y was passed when a 1d array was expected. Please change the shape of y to (n_samples,), for example using ravel().\n",
            "  estimator.fit(X[:, features], y, **fit_params)\n",
            "/usr/local/lib/python3.7/dist-packages/sklearn/feature_selection/_rfe.py:310: DataConversionWarning: A column-vector y was passed when a 1d array was expected. Please change the shape of y to (n_samples,), for example using ravel().\n",
            "  self.estimator_.fit(X[:, features], y, **fit_params)\n"
          ]
        },
        {
          "output_type": "stream",
          "name": "stdout",
          "text": [
            "X_tr.shape : (524238, 22)\n",
            "X_tr_new :(524238, 8)\n"
          ]
        }
      ]
    },
    {
      "cell_type": "code",
      "execution_count": null,
      "id": "b2591af4",
      "metadata": {
        "colab": {
          "base_uri": "https://localhost:8080/"
        },
        "id": "b2591af4",
        "outputId": "1e188cc4-b268-4833-b98d-df40c5b9b162"
      },
      "outputs": [
        {
          "output_type": "stream",
          "name": "stderr",
          "text": [
            "/usr/local/lib/python3.7/dist-packages/sklearn/base.py:493: FutureWarning: The feature names should match those that were passed during fit. Starting version 1.2, an error will be raised.\n",
            "Feature names unseen at fit time:\n",
            "- wlan.fc.protected\n",
            "Feature names seen at fit time, yet now missing:\n",
            "- data.len\n",
            "\n",
            "  warnings.warn(message, FutureWarning)\n"
          ]
        }
      ],
      "source": [
        "X_te_new = select.transform(X_te)"
      ]
    },
    {
      "cell_type": "code",
      "execution_count": null,
      "id": "d4aebbd8",
      "metadata": {
        "colab": {
          "base_uri": "https://localhost:8080/"
        },
        "id": "d4aebbd8",
        "outputId": "843c3e13-56a6-4c8f-92e8-8f1b4b82642e"
      },
      "outputs": [
        {
          "output_type": "execute_result",
          "data": {
            "text/plain": [
              "0.9540398989439811"
            ]
          },
          "metadata": {},
          "execution_count": 46
        }
      ],
      "source": [
        "from sklearn import tree\n",
        "model1 = tree.DecisionTreeClassifier()\n",
        "model1.fit(X_tr_new, y_tr)\n",
        "model1.score(X_te_new, y_te)"
      ]
    },
    {
      "cell_type": "code",
      "execution_count": null,
      "id": "a935fed2",
      "metadata": {
        "colab": {
          "base_uri": "https://localhost:8080/"
        },
        "id": "a935fed2",
        "outputId": "7892922f-50ac-4a40-e437-e6408eeb2a87"
      },
      "outputs": [
        {
          "output_type": "stream",
          "name": "stderr",
          "text": [
            "/usr/local/lib/python3.7/dist-packages/ipykernel_launcher.py:3: DataConversionWarning: A column-vector y was passed when a 1d array was expected. Please change the shape of y to (n_samples,), for example using ravel().\n",
            "  This is separate from the ipykernel package so we can avoid doing imports until\n"
          ]
        },
        {
          "output_type": "execute_result",
          "data": {
            "text/plain": [
              "0.9540398989439811"
            ]
          },
          "metadata": {},
          "execution_count": 47
        }
      ],
      "source": [
        "from sklearn.ensemble import RandomForestClassifier\n",
        "model2 = RandomForestClassifier(n_estimators=20)\n",
        "model2.fit(X_tr_new,y_tr)\n",
        "model2.score(X_te_new,y_te)"
      ]
    },
    {
      "cell_type": "code",
      "execution_count": null,
      "id": "3e86b3a4",
      "metadata": {
        "colab": {
          "base_uri": "https://localhost:8080/"
        },
        "id": "3e86b3a4",
        "outputId": "9cf19a3d-1c93-4cdd-d308-1c8ec3699fbb"
      },
      "outputs": [
        {
          "output_type": "execute_result",
          "data": {
            "text/plain": [
              "array([[     0,  16682],\n",
              "       [     0, 346285]])"
            ]
          },
          "metadata": {},
          "execution_count": 48
        }
      ],
      "source": [
        "# Confusion Matrix\n",
        "y_predicted = model2.predict(X_te_new)\n",
        "from sklearn.metrics import confusion_matrix\n",
        "cm = confusion_matrix(y_te,y_predicted)\n",
        "cm"
      ]
    },
    {
      "cell_type": "code",
      "execution_count": null,
      "id": "8e4a0b6e",
      "metadata": {
        "colab": {
          "base_uri": "https://localhost:8080/"
        },
        "id": "8e4a0b6e",
        "outputId": "ed661395-78bb-4774-cd9d-7232ffbc0760"
      },
      "outputs": [
        {
          "output_type": "execute_result",
          "data": {
            "text/plain": [
              "Text(69.0, 0.5, 'Truth')"
            ]
          },
          "metadata": {},
          "execution_count": 49
        },
        {
          "output_type": "display_data",
          "data": {
            "text/plain": [
              "<Figure size 720x504 with 2 Axes>"
            ],
            "image/png": "[encoded data removed]"
          },
          "metadata": {
            "needs_background": "light"
          }
        }
      ],
      "source": [
        "import seaborn as sn\n",
        "plt.figure(figsize=(10,7))\n",
        "sn.heatmap(cm, annot=True)\n",
        "plt.xlabel('Predicted')\n",
        "plt.ylabel('Truth')"
      ]
    },
    {
      "cell_type": "code",
      "execution_count": null,
      "id": "ce6e8d13",
      "metadata": {
        "id": "ce6e8d13"
      },
      "outputs": [],
      "source": [
        "#importing accuracy_score,precision_score,recall_score.F1_score\n",
        "from sklearn.metrics import accuracy_score,precision_score,recall_score,f1_score"
      ]
    },
    {
      "cell_type": "code",
      "execution_count": null,
      "id": "acfaca54",
      "metadata": {
        "colab": {
          "base_uri": "https://localhost:8080/"
        },
        "id": "acfaca54",
        "outputId": "3eb06abe-e717-4bf5-cd84-0c76b1d6911c"
      },
      "outputs": [
        {
          "output_type": "execute_result",
          "data": {
            "text/plain": [
              "0.9540398989439811"
            ]
          },
          "metadata": {},
          "execution_count": 51
        }
      ],
      "source": [
        "accuracy_score(y_te,y_predicted)"
      ]
    },
    {
      "cell_type": "code",
      "execution_count": null,
      "id": "062b48a3",
      "metadata": {
        "colab": {
          "base_uri": "https://localhost:8080/"
        },
        "id": "062b48a3",
        "outputId": "92c4cbf5-3a22-4ef7-adde-b85686b26305"
      },
      "outputs": [
        {
          "output_type": "execute_result",
          "data": {
            "text/plain": [
              "0.9540398989439811"
            ]
          },
          "metadata": {},
          "execution_count": 52
        }
      ],
      "source": [
        "precision_score(y_te,y_predicted)"
      ]
    },
    {
      "cell_type": "code",
      "execution_count": null,
      "id": "2e344231",
      "metadata": {
        "colab": {
          "base_uri": "https://localhost:8080/"
        },
        "id": "2e344231",
        "outputId": "e7bc0d4c-05fa-47f5-c07d-7e3236e3a2e4"
      },
      "outputs": [
        {
          "output_type": "execute_result",
          "data": {
            "text/plain": [
              "1.0"
            ]
          },
          "metadata": {},
          "execution_count": 53
        }
      ],
      "source": [
        "recall_score(y_te,y_predicted)"
      ]
    },
    {
      "cell_type": "code",
      "execution_count": null,
      "id": "32f5e4d3",
      "metadata": {
        "colab": {
          "base_uri": "https://localhost:8080/"
        },
        "id": "32f5e4d3",
        "outputId": "626e0524-4bbd-4f1c-cff0-55eddd093308"
      },
      "outputs": [
        {
          "output_type": "execute_result",
          "data": {
            "text/plain": [
              "0.9764794459515095"
            ]
          },
          "metadata": {},
          "execution_count": 54
        }
      ],
      "source": [
        "f1_score(y_te,y_predicted)"
      ]
    },
    {
      "cell_type": "code",
      "execution_count": null,
      "id": "610d412a",
      "metadata": {
        "id": "610d412a"
      },
      "outputs": [],
      "source": []
    },
    {
      "cell_type": "code",
      "execution_count": null,
      "id": "6fbb4dd5",
      "metadata": {
        "id": "6fbb4dd5"
      },
      "outputs": [],
      "source": []
    }
  ],
  "metadata": {
    "kernelspec": {
      "display_name": "Python 3 (ipykernel)",
      "language": "python",
      "name": "python3"
    },
    "language_info": {
      "codemirror_mode": {
        "name": "ipython",
        "version": 3
      },
      "file_extension": ".py",
      "mimetype": "text/x-python",
      "name": "python",
      "nbconvert_exporter": "python",
      "pygments_lexer": "ipython3",
      "version": "3.10.2"
    },
    "colab": {
      "provenance": [],
      "include_colab_link": true
    }
  },
  "nbformat": 4,
  "nbformat_minor": 5
}